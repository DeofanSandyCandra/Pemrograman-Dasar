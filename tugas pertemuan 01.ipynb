{
  "nbformat": 4,
  "nbformat_minor": 0,
  "metadata": {
    "colab": {
      "provenance": [],
      "authorship_tag": "ABX9TyOrTsLX092x1bhYdc6jgEla",
      "include_colab_link": true
    },
    "kernelspec": {
      "name": "python3",
      "display_name": "Python 3"
    },
    "language_info": {
      "name": "python"
    }
  },
  "cells": [
    {
      "cell_type": "markdown",
      "metadata": {
        "id": "view-in-github",
        "colab_type": "text"
      },
      "source": [
        "<a href=\"https://colab.research.google.com/github/DeofanSandyCandra/Pemrograman-Dasar/blob/main/tugas%20pertemuan%2001.ipynb\" target=\"_parent\"><img src=\"https://colab.research.google.com/assets/colab-badge.svg\" alt=\"Open In Colab\"/></a>"
      ]
    },
    {
      "cell_type": "code",
      "execution_count": 2,
      "metadata": {
        "colab": {
          "base_uri": "https://localhost:8080/"
        },
        "id": "Y9u3vzhc0rBH",
        "outputId": "7dec0b37-9ac3-43fb-a9cd-2a0004d32796"
      },
      "outputs": [
        {
          "output_type": "stream",
          "name": "stdout",
          "text": [
            "Deofan Sandy Candra\n",
            "4232401003\n",
            "19\n",
            "Teknik Elektro\n",
            "Teknologi Rekayasa Pembangkit Energi\n",
            "3\n",
            "A\n",
            "Pemrograman Dasar\n",
            "SMKN  1 Batam\n",
            "Otomasi Industri\n",
            "False\n"
          ]
        }
      ],
      "source": [
        "# Biodata Saya\n",
        "\n",
        "nama = \"Deofan Sandy Candra\"\n",
        "NIM = 4232401003\n",
        "umur = 19\n",
        "jurusan = \"Teknik Elektro\"\n",
        "Prodi = \"Teknologi Rekayasa Pembangkit Energi\"\n",
        "semester = 3\n",
        "kelas = 'A'\n",
        "matakuliah = 'Pemrograman Dasar'\n",
        "asal_sekolah = 'SMKN  1 Batam'\n",
        "jurusan_smk = 'Otomasi Industri'\n",
        "status_lulus = False\n",
        "\n",
        "\n",
        "print (nama)\n",
        "print (NIM)\n",
        "print (umur)\n",
        "print (jurusan)\n",
        "print (Prodi)\n",
        "print (semester)\n",
        "print (kelas)\n",
        "print (matakuliah)\n",
        "print (asal_sekolah)\n",
        "print (jurusan_smk)\n",
        "print (status_lulus)"
      ]
    }
  ]
}