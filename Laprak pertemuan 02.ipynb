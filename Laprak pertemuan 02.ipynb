{
  "nbformat": 4,
  "nbformat_minor": 0,
  "metadata": {
    "colab": {
      "provenance": [],
      "authorship_tag": "ABX9TyMtV1lhB9Qq+fu/2ufSLbEO",
      "include_colab_link": true
    },
    "kernelspec": {
      "name": "python3",
      "display_name": "Python 3"
    },
    "language_info": {
      "name": "python"
    }
  },
  "cells": [
    {
      "cell_type": "markdown",
      "metadata": {
        "id": "view-in-github",
        "colab_type": "text"
      },
      "source": [
        "<a href=\"https://colab.research.google.com/github/DeofanSandyCandra/Pemrograman-Dasar/blob/main/Laprak%20pertemuan%2002.ipynb\" target=\"_parent\"><img src=\"https://colab.research.google.com/assets/colab-badge.svg\" alt=\"Open In Colab\"/></a>"
      ]
    },
    {
      "cell_type": "code",
      "source": [
        "# Tipe data : List\n",
        "#1\n",
        "# deklarasi variabel list\n",
        "\n",
        "numbers = [23, 43, 15, 34]\n",
        "\n",
        "# cara mengakses elemen dalam variabel list\n",
        "\n",
        "numbers [0] #23\n",
        "\n",
        "numbers [1] # 43\n",
        "\n",
        "numbers [2] #15\n",
        "\n",
        "numbers [3] #34\n",
        "\n",
        "# cara mengubah nilai elemen dalam variabel list numbers [2] # 51\n",
        "\n",
        "numbers [2] = 51\n",
        "\n",
        "\n",
        "print (numbers[1]) #lakukan untuk setiap indexnya dan lihat hasilnya\n",
        "print (numbers[0])\n",
        "print (numbers[2])\n",
        "print (numbers[3])"
      ],
      "metadata": {
        "colab": {
          "base_uri": "https://localhost:8080/"
        },
        "id": "tnHpmN97rcSN",
        "outputId": "fa45f811-2442-4e3c-95c9-0d6220dfce21"
      },
      "execution_count": null,
      "outputs": [
        {
          "output_type": "stream",
          "name": "stdout",
          "text": [
            "43\n",
            "23\n",
            "51\n",
            "34\n"
          ]
        }
      ]
    },
    {
      "cell_type": "code",
      "source": [
        "# Tipe data : List\n",
        "#1\n",
        "# deklarasi variabel list numbers\n",
        "numbers = [1, 2, 3]\n",
        "\n",
        "# menambahkan elemen di indeks ke-4\n",
        "numbers.insert(4, 5) # [1, 2, 3, 5]\n",
        "\n",
        "# mengubah elemen di indeks ke-4\n",
        "numbers[3] = 4 #[1, 2, 3, 4]\n",
        "\n",
        "# menghapus elemen di indeks ke-2\n",
        "numbers.pop(2) # [1, 2, 4]\n",
        "\n",
        "\n",
        "#print lalu lihat hasilnya\n",
        "print (numbers)\n",
        "\n"
      ],
      "metadata": {
        "id": "KF1QgpKBsiCV",
        "colab": {
          "base_uri": "https://localhost:8080/"
        },
        "outputId": "0ff56a1d-0b64-4b85-8381-6b91f13858f7"
      },
      "execution_count": 3,
      "outputs": [
        {
          "output_type": "stream",
          "name": "stdout",
          "text": [
            "[1, 2, 4]\n"
          ]
        }
      ]
    },
    {
      "cell_type": "code",
      "source": [
        "#Tipe data : list\n",
        "# deklarasi variabel list\n",
        "#4\n",
        "myList = [1, \"Rumah\", 4.5, True, [\"Kamar mandi\", \"Kamar tidur\"]]\n",
        "\n",
        "#cara mengakses elemen dalam variabel list\n",
        "\n",
        "myList[0]\n",
        "\n",
        "myList[1]\n",
        "\n",
        "myList[3]\n",
        "\n",
        "myList[4]\n",
        "\n",
        "#cara mengakses elemen dalam sublist\n",
        "\n",
        "myList[4][0]\n",
        "\n",
        "myList[4] [1]\n",
        "\n",
        "#lakuan print lalu amati hasilnya\n",
        "print (myList[0])\n",
        "print (myList[1])\n",
        "print (myList[2])\n",
        "print (myList[3])\n",
        "print (myList[4])"
      ],
      "metadata": {
        "colab": {
          "base_uri": "https://localhost:8080/"
        },
        "id": "d15DWRlbHv6q",
        "outputId": "b6c0e06e-8763-4367-8fd7-3a7fc9f0dc6e"
      },
      "execution_count": 1,
      "outputs": [
        {
          "output_type": "stream",
          "name": "stdout",
          "text": [
            "1\n",
            "Rumah\n",
            "4.5\n",
            "True\n",
            "['Kamar mandi', 'Kamar tidur']\n"
          ]
        }
      ]
    },
    {
      "cell_type": "code",
      "source": [
        "# Tipe data : Slicing list\n",
        "#5\n",
        "x = [\"laptop\", \"monitor\", \"mouse\", \"mousepad\", \"keyboard\", \"webcam\", \"microphone\"]\n",
        "\n",
        "print(x[0:5:2])\n",
        "\n",
        "print(x[1:])\n",
        "\n",
        "print(x[:3])\n",
        "\n",
        "#Output:\n",
        "\n",
        "# ['laptop', 'mouse', 'keyboard']\n",
        "\n",
        "# ['monitor', 'mouse', 'mousepad', 'keyboard', 'webcam', 'microphone']\n",
        "\n",
        "# ['laptop', 'monitor', 'mouse']"
      ],
      "metadata": {
        "colab": {
          "base_uri": "https://localhost:8080/"
        },
        "id": "byzAwvixfiVr",
        "outputId": "eee4a02b-8cb6-4e0e-f99f-29503ea8ff59"
      },
      "execution_count": 2,
      "outputs": [
        {
          "output_type": "stream",
          "name": "stdout",
          "text": [
            "['laptop', 'mouse', 'keyboard']\n",
            "['monitor', 'mouse', 'mousepad', 'keyboard', 'webcam', 'microphone']\n",
            "['laptop', 'monitor', 'mouse']\n"
          ]
        }
      ]
    },
    {
      "cell_type": "code",
      "source": [
        "# Tipe data = Tuple\n",
        "#6\n",
        "x = (1, \"Polibatam\", 1+3j)\n",
        "\n",
        "print(type(x))\n",
        "\n",
        "#Output:\n",
        "\n",
        "#<class 'tuple'>"
      ],
      "metadata": {
        "colab": {
          "base_uri": "https://localhost:8080/"
        },
        "id": "DomEL6xPgR0W",
        "outputId": "e3843177-9fe9-4269-cc0e-c77d1c09db77"
      },
      "execution_count": null,
      "outputs": [
        {
          "output_type": "stream",
          "name": "stdout",
          "text": [
            "<class 'tuple'>\n"
          ]
        }
      ]
    },
    {
      "cell_type": "code",
      "source": [
        "# Tipe data : Indexing Tuple\n",
        "#7\n",
        "x = (5, 'program', 1 + 3j )\n",
        "\n",
        "print (x[1])\n",
        "\n",
        "print (x[0:3])\n",
        "\n",
        "#Output:\n",
        "\n",
        "#program\n",
        "\n",
        "#(5, 'program', (1 + 3j) )"
      ],
      "metadata": {
        "colab": {
          "base_uri": "https://localhost:8080/"
        },
        "id": "1x30f0dFhKGK",
        "outputId": "34846fda-26af-4161-aee6-700a3a928f32"
      },
      "execution_count": null,
      "outputs": [
        {
          "output_type": "stream",
          "name": "stdout",
          "text": [
            "program\n",
            "(5, 'program', (1+3j))\n"
          ]
        }
      ]
    },
    {
      "cell_type": "code",
      "source": [
        "# Tipe data : Imutable Tuple\n",
        "#8\n",
        "x = (5, 'program', 1+3j)\n",
        "\n",
        "x[1] = 'Polibatam'\n",
        "\n",
        "#Output:\n",
        "\n",
        "#'tuple' object does not support item assignment"
      ],
      "metadata": {
        "colab": {
          "base_uri": "https://localhost:8080/",
          "height": 211
        },
        "id": "993vMgmKhz_a",
        "outputId": "7fc23b77-562b-4da3-e001-e142b040dec7"
      },
      "execution_count": null,
      "outputs": [
        {
          "output_type": "error",
          "ename": "TypeError",
          "evalue": "'tuple' object does not support item assignment",
          "traceback": [
            "\u001b[0;31m---------------------------------------------------------------------------\u001b[0m",
            "\u001b[0;31mTypeError\u001b[0m                                 Traceback (most recent call last)",
            "\u001b[0;32m/tmp/ipython-input-2002065228.py\u001b[0m in \u001b[0;36m<cell line: 0>\u001b[0;34m()\u001b[0m\n\u001b[1;32m      3\u001b[0m \u001b[0mx\u001b[0m \u001b[0;34m=\u001b[0m \u001b[0;34m(\u001b[0m\u001b[0;36m5\u001b[0m\u001b[0;34m,\u001b[0m \u001b[0;34m'program'\u001b[0m\u001b[0;34m,\u001b[0m \u001b[0;36m1\u001b[0m\u001b[0;34m+\u001b[0m\u001b[0;36m3j\u001b[0m\u001b[0;34m)\u001b[0m\u001b[0;34m\u001b[0m\u001b[0;34m\u001b[0m\u001b[0m\n\u001b[1;32m      4\u001b[0m \u001b[0;34m\u001b[0m\u001b[0m\n\u001b[0;32m----> 5\u001b[0;31m \u001b[0mx\u001b[0m\u001b[0;34m[\u001b[0m\u001b[0;36m1\u001b[0m\u001b[0;34m]\u001b[0m \u001b[0;34m=\u001b[0m \u001b[0;34m'Polibatam'\u001b[0m\u001b[0;34m\u001b[0m\u001b[0;34m\u001b[0m\u001b[0m\n\u001b[0m\u001b[1;32m      6\u001b[0m \u001b[0;34m\u001b[0m\u001b[0m\n\u001b[1;32m      7\u001b[0m \u001b[0;31m#Output:\u001b[0m\u001b[0;34m\u001b[0m\u001b[0;34m\u001b[0m\u001b[0m\n",
            "\u001b[0;31mTypeError\u001b[0m: 'tuple' object does not support item assignment"
          ]
        }
      ]
    },
    {
      "cell_type": "code",
      "source": [
        "\n",
        "# Tipe data : Imutable tuple\n",
        "#8\n",
        "# deklarasi variabel tuple\n",
        "numbers = (23, 43, 15, 34)\n",
        "\n",
        "# cara mengakses elemen dalam variabel tuple\n",
        "\n",
        "print (numbers[0]) # 23\n",
        "\n",
        "print (numbers [1]) # 43\n",
        "\n",
        "print (numbers [2]) # 15\n",
        "\n",
        "#lakuan print lalu amati hasilnya\n",
        "print (numbers)"
      ],
      "metadata": {
        "colab": {
          "base_uri": "https://localhost:8080/"
        },
        "id": "X91HyE8EmOaR",
        "outputId": "6a418ee6-7878-4f56-e668-10637c1ea642"
      },
      "execution_count": null,
      "outputs": [
        {
          "output_type": "stream",
          "name": "stdout",
          "text": [
            "23\n",
            "43\n",
            "15\n",
            "(23, 43, 15, 34)\n"
          ]
        }
      ]
    },
    {
      "cell_type": "code",
      "source": [
        "# Tipe data : set\n",
        "#9\n",
        "# deklarasi variabel set a dan b\n",
        "\n",
        "a = {1, 2, 3}\n",
        "b = {2, 3, 4}\n",
        "\n",
        "# operasi gabungan\n",
        "\n",
        "operasi_gabungan = a.union(b) #{1, 2, 3, 4}\n",
        "\n",
        "# operasi irisan\n",
        "operasiirisan =a.intersection(b) # {2, 3}\n",
        "\n",
        "# operasi perbedaan\n",
        "operasi_perbedaan = a.symmetric_difference(b) # {1, 4}\n",
        "\n",
        "#lakukan print dan lihat hasilny\n",
        "print (a)\n",
        "print (b)\n",
        "print (operasi_gabungan)\n",
        "print (operasiirisan)\n",
        "print (operasi_perbedaan)"
      ],
      "metadata": {
        "colab": {
          "base_uri": "https://localhost:8080/"
        },
        "id": "YZZLr9EnnWlR",
        "outputId": "70a6c5f5-e86f-4e7d-af03-24be8fb27fba"
      },
      "execution_count": null,
      "outputs": [
        {
          "output_type": "stream",
          "name": "stdout",
          "text": [
            "{1, 2, 3}\n",
            "{2, 3, 4}\n",
            "{1, 2, 3, 4}\n",
            "{2, 3}\n",
            "{1, 4}\n"
          ]
        }
      ]
    },
    {
      "cell_type": "code",
      "source": [
        "# Tipe data : Dictionary\n",
        "#10\n",
        "x = { 'name': 'Perseus Evans', 'age': 20, 'isMarried': False }\n",
        "\n",
        "print(type(x))\n",
        "\n",
        "#Output:\n",
        "\n",
        "#<class 'dict'>"
      ],
      "metadata": {
        "id": "7P-AeX_Yp9UG",
        "colab": {
          "base_uri": "https://localhost:8080/"
        },
        "outputId": "840beba2-60f1-40d6-face-5e97246a8b03"
      },
      "execution_count": null,
      "outputs": [
        {
          "output_type": "stream",
          "name": "stdout",
          "text": [
            "<class 'dict'>\n"
          ]
        }
      ]
    },
    {
      "cell_type": "code",
      "source": [
        "# Tipe data : Dictionary\n",
        "#10\n",
        "x = { 'name': 'Perseus Evans', 'age': 20, 'isMarried': False }\n",
        "\n",
        "print(x[0])\n",
        "\n",
        "#Output:\n",
        "\n",
        "#KeyError: 0\n",
        "\n"
      ],
      "metadata": {
        "colab": {
          "base_uri": "https://localhost:8080/",
          "height": 211
        },
        "id": "qeh02OpqnlxM",
        "outputId": "e1725c75-8e26-4568-fb6c-cffaaeb467db"
      },
      "execution_count": null,
      "outputs": [
        {
          "output_type": "error",
          "ename": "KeyError",
          "evalue": "0",
          "traceback": [
            "\u001b[0;31m---------------------------------------------------------------------------\u001b[0m",
            "\u001b[0;31mKeyError\u001b[0m                                  Traceback (most recent call last)",
            "\u001b[0;32m/tmp/ipython-input-3441575002.py\u001b[0m in \u001b[0;36m<cell line: 0>\u001b[0;34m()\u001b[0m\n\u001b[1;32m      1\u001b[0m \u001b[0mx\u001b[0m \u001b[0;34m=\u001b[0m \u001b[0;34m{\u001b[0m \u001b[0;34m'name'\u001b[0m\u001b[0;34m:\u001b[0m \u001b[0;34m'Perseus Evans'\u001b[0m\u001b[0;34m,\u001b[0m \u001b[0;34m'age'\u001b[0m\u001b[0;34m:\u001b[0m \u001b[0;36m20\u001b[0m\u001b[0;34m,\u001b[0m \u001b[0;34m'isMarried'\u001b[0m\u001b[0;34m:\u001b[0m \u001b[0;32mFalse\u001b[0m \u001b[0;34m}\u001b[0m\u001b[0;34m\u001b[0m\u001b[0;34m\u001b[0m\u001b[0m\n\u001b[1;32m      2\u001b[0m \u001b[0;34m\u001b[0m\u001b[0m\n\u001b[0;32m----> 3\u001b[0;31m \u001b[0mprint\u001b[0m\u001b[0;34m(\u001b[0m\u001b[0mx\u001b[0m\u001b[0;34m[\u001b[0m\u001b[0;36m0\u001b[0m\u001b[0;34m]\u001b[0m\u001b[0;34m)\u001b[0m\u001b[0;34m\u001b[0m\u001b[0;34m\u001b[0m\u001b[0m\n\u001b[0m\u001b[1;32m      4\u001b[0m \u001b[0;34m\u001b[0m\u001b[0m\n\u001b[1;32m      5\u001b[0m \u001b[0;31m#Output:\u001b[0m\u001b[0;34m\u001b[0m\u001b[0;34m\u001b[0m\u001b[0m\n",
            "\u001b[0;31mKeyError\u001b[0m: 0"
          ]
        }
      ]
    },
    {
      "cell_type": "code",
      "source": [
        "# Tipe data : Dictionary\n",
        "#10\n",
        "x = { 'name': 'Perseus Evans', 'age': 20, 'isMarried': False }\n",
        "\n",
        "print(x ['name'])\n",
        "\n",
        "#Output:\n",
        "\n",
        "#Perseus Evans"
      ],
      "metadata": {
        "colab": {
          "base_uri": "https://localhost:8080/"
        },
        "id": "h1uvyD7hn0Dy",
        "outputId": "4253079b-c86b-49e3-ee81-ccc438dce864"
      },
      "execution_count": null,
      "outputs": [
        {
          "output_type": "stream",
          "name": "stdout",
          "text": [
            "Perseus Evans\n"
          ]
        }
      ]
    },
    {
      "cell_type": "code",
      "source": [
        "# Tipe data : Dictionary\n",
        "#11\n",
        "#menambah data\n",
        "x = { 'name': 'Perseus Evans', 'age': 20, 'isMarried': False }\n",
        "x ['Job'] = \"Web Developer\"\n",
        "\n",
        "print(x)\n",
        "\n",
        "#Output:\n",
        "\n",
        "#{'name': 'Perseus Evans', 'age': 20, 'isMarried': False, 'Job': 'Web Developer'}"
      ],
      "metadata": {
        "colab": {
          "base_uri": "https://localhost:8080/"
        },
        "id": "bJ8tYSOSoRXc",
        "outputId": "811e98ab-8de5-405f-9a76-9b5f501b0649"
      },
      "execution_count": null,
      "outputs": [
        {
          "output_type": "stream",
          "name": "stdout",
          "text": [
            "{'name': 'Perseus Evans', 'age': 20, 'isMarried': False, 'Job': 'Web Developer'}\n"
          ]
        }
      ]
    },
    {
      "cell_type": "code",
      "source": [
        "# Tipe data : Dictionary\n",
        "#11\n",
        "#menghapus data\n",
        "x = { 'name': 'Perseus Evans', 'age': 20, 'isMarried': False }\n",
        "\n",
        "del x['isMarried']\n",
        "\n",
        "print(x)\n",
        "\n",
        "#Output:\n",
        "\n",
        "#{'name': 'Perseus Evans', 'age': 20}"
      ],
      "metadata": {
        "colab": {
          "base_uri": "https://localhost:8080/"
        },
        "id": "pAUKlVp3qLnE",
        "outputId": "eb54914c-03c3-4270-f05a-438af1d86512"
      },
      "execution_count": null,
      "outputs": [
        {
          "output_type": "stream",
          "name": "stdout",
          "text": [
            "{'name': 'Perseus Evans', 'age': 20}\n"
          ]
        }
      ]
    },
    {
      "cell_type": "code",
      "source": [
        "# Tipe data : Dictionary\n",
        "#11\n",
        "#mengubah data\n",
        "x = { 'name': 'Perseus Evans', 'age': 20, 'isMarried': False }\n",
        "x ['name'] = \"Exvan\"\n",
        "\n",
        "print(x)\n",
        "\n",
        "#Output:\n",
        "\n",
        "#{'name': 'Exvan', 'age': 20, 'isMarried': False}"
      ],
      "metadata": {
        "colab": {
          "base_uri": "https://localhost:8080/"
        },
        "id": "Of9FsK9UqeIg",
        "outputId": "914e82d6-38ad-4935-f4a5-4a92397bb3f3"
      },
      "execution_count": null,
      "outputs": [
        {
          "output_type": "stream",
          "name": "stdout",
          "text": [
            "{'name': 'Exvan', 'age': 20, 'isMarried': False}\n"
          ]
        }
      ]
    },
    {
      "cell_type": "code",
      "source": [
        "# Tipe data : Dictionary\n",
        "#11\n",
        "# deklarasi variabel dictionary\n",
        "\n",
        "propertyDetail = {\"numFloors\": 1, \"propertyType\": \"Rumah\", \"hasTerrace\": True, \"hasGarage\": False}\n",
        "\n",
        "# cara mengakses elemen dalam variabel dictionary\n",
        "\n",
        "propertyDetail[\"numFloors\"] #1\n",
        "\n",
        "propertyDetail[\"propertyType\"]# Rumah\n",
        "\n",
        "propertyDetail[\"hasTerrace\"]# True\n",
        "\n",
        "propertyDetail[\"hasGarage\"]# False\n",
        "\n",
        "#cara mengubah nilai elemen dalam variabel dictionary\n",
        "\n",
        "propertyDetail[\"hasTerrace\"] = False\n",
        "\n",
        "propertyDetail[\"hasTerrace\"]\n",
        "\n",
        "#False\n",
        "\n",
        "print(propertyDetail [\"propertyType\"])\n",
        "\n",
        "#lakuan print lalu amati hasilnya"
      ],
      "metadata": {
        "colab": {
          "base_uri": "https://localhost:8080/"
        },
        "id": "5792TQxJtIM7",
        "outputId": "19c0d026-44da-4cf4-da6e-44c30cbc4621"
      },
      "execution_count": null,
      "outputs": [
        {
          "output_type": "stream",
          "name": "stdout",
          "text": [
            "Rumah\n"
          ]
        }
      ]
    }
  ]
}