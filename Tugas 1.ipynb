{
  "nbformat": 4,
  "nbformat_minor": 0,
  "metadata": {
    "colab": {
      "provenance": [],
      "authorship_tag": "ABX9TyNBlE4cn+I+Zana3JnYnrGF",
      "include_colab_link": true
    },
    "kernelspec": {
      "name": "python3",
      "display_name": "Python 3"
    },
    "language_info": {
      "name": "python"
    }
  },
  "cells": [
    {
      "cell_type": "markdown",
      "metadata": {
        "id": "view-in-github",
        "colab_type": "text"
      },
      "source": [
        "<a href=\"https://colab.research.google.com/github/DeofanSandyCandra/Pemrograman-Dasar/blob/main/Tugas%201.ipynb\" target=\"_parent\"><img src=\"https://colab.research.google.com/assets/colab-badge.svg\" alt=\"Open In Colab\"/></a>"
      ]
    },
    {
      "cell_type": "code",
      "execution_count": 22,
      "metadata": {
        "colab": {
          "base_uri": "https://localhost:8080/"
        },
        "id": "EdBuOUto7HqQ",
        "outputId": "715d1767-88bc-4f46-f72a-a4b02c2ebe45"
      },
      "outputs": [
        {
          "output_type": "stream",
          "name": "stdout",
          "text": [
            "['Sandy', 19, 'Teknologi Rekayasa Pembangkit Energi', 3, 'Pemrograman Dasar', False]\n",
            "Pemrograman Dasar\n"
          ]
        }
      ],
      "source": [
        "# Data List\n",
        "[\"Sandy\",19,\"RPE\",3,'Pemrograman Dasar',False]\n",
        "\n",
        "biodata [2] = \"Teknologi Rekayasa Pembangkit Energi\"\n",
        "print (biodata)\n",
        "print (biodata [4])\n"
      ]
    },
    {
      "cell_type": "code",
      "source": [
        "# tuple\n",
        "Biodata = (\"Sandy\",19,\"RPE\",3,'Pemrograman Dasar',False)\n",
        "biodata = \"Sandy\",19,\"RPE\",3,'Pemrograman Dasar',False\n",
        "\n",
        "\n",
        "print (Biodata)\n",
        "print (biodata)\n",
        "print (biodata [4])\n",
        "print (Biodata [0])"
      ],
      "metadata": {
        "colab": {
          "base_uri": "https://localhost:8080/"
        },
        "id": "hpKC8sLtDuT7",
        "outputId": "70b16ab9-7f6c-4f21-a2a6-6ff8fab4534f"
      },
      "execution_count": 23,
      "outputs": [
        {
          "output_type": "stream",
          "name": "stdout",
          "text": [
            "('Sandy', 19, 'RPE', 3, 'Pemrograman Dasar', False)\n",
            "('Sandy', 19, 'RPE', 3, 'Pemrograman Dasar', False)\n",
            "Pemrograman Dasar\n",
            "Sandy\n"
          ]
        }
      ]
    },
    {
      "cell_type": "code",
      "source": [
        "# set\n",
        "biodata = {\"Sandy\",19,\"RPE\",3,'Pemrograman Dasar',False}\n",
        "Biodata = {\"Sandy\",19,19,19,\"RPE\",3,'Pemrograman Dasar',False}\n",
        "biodata.add(\"Kelas A Pagi\")\n",
        "biodata.discard (False)\n",
        "biodata_gabungan = biodata.union(Biodata)\n",
        "unik = biodata.symmetric_difference(Biodata)\n",
        "print (biodata)\n",
        "print (Biodata)\n",
        "print (unik)\n"
      ],
      "metadata": {
        "colab": {
          "base_uri": "https://localhost:8080/"
        },
        "id": "MJZw52tsAJNn",
        "outputId": "13e820d9-5520-44ed-e05d-30990a37e942"
      },
      "execution_count": 27,
      "outputs": [
        {
          "output_type": "stream",
          "name": "stdout",
          "text": [
            "{3, 19, 'Pemrograman Dasar', 'Sandy', 'Kelas A Pagi', 'RPE'}\n",
            "{False, 3, 19, 'Pemrograman Dasar', 'Sandy', 'RPE'}\n",
            "{False, 'Kelas A Pagi'}\n"
          ]
        }
      ]
    },
    {
      "cell_type": "code",
      "source": [
        "# dictionary\n",
        "biodata = dict(\n",
        "    nama=\"Sandy\",\n",
        "    umur=19,\n",
        "    prodi=\"RPE\",\n",
        "    semester=3,\n",
        "    matkul=\"Pemrograman Dasar\",\n",
        "    tahunlulus=False\n",
        ")\n",
        "\n",
        "Biodata = dict([\n",
        "    (\"nama\", \"Sandy\"),\n",
        "    (\"umur\", 19),\n",
        "    (\"prodi\", \"RPE\"),\n",
        "    (\"semester\", 3),\n",
        "    (\"matkul\", \"Pemrograman Dasar\"),\n",
        "    (\"tahunlulus\", False)\n",
        "])\n",
        "\n",
        "info_tambahan = {\"NIM\": 4232401003, \"kelas\": \"pagi a\"}\n",
        "biodata[\"nama\"] = \"Deofan Sandy Candra\"\n",
        "del biodata[\"tahunlulus\"]\n",
        "print(biodata)\n",
        "print(Biodata)\n",
        "print(biodata.get(\"matkul\", \"Pemrograman Dasar\"))\n",
        "\n"
      ],
      "metadata": {
        "colab": {
          "base_uri": "https://localhost:8080/"
        },
        "id": "eKfvhUTOPNds",
        "outputId": "031f4779-9062-4e6e-fb95-fe2b8d7d266d"
      },
      "execution_count": 37,
      "outputs": [
        {
          "output_type": "stream",
          "name": "stdout",
          "text": [
            "{'nama': 'Deofan Sandy Candra', 'umur': 19, 'prodi': 'RPE', 'semester': 3, 'matkul': 'Pemrograman Dasar'}\n",
            "{'nama': 'Sandy', 'umur': 19, 'prodi': 'RPE', 'semester': 3, 'matkul': 'Pemrograman Dasar', 'tahunlulus': False}\n",
            "Pemrograman Dasar\n"
          ]
        }
      ]
    },
    {
      "cell_type": "code",
      "source": [
        "# Tipe Anotasi\n",
        "\n",
        "# Tanpa Anotasi\n",
        "\n",
        "nama = \"Sandy\"\n",
        "umur = 19\n",
        "jurusan = \"RPE\"\n",
        "semester = 3\n",
        "matakuliah = 'Pemrograman Dasar'\n",
        "status_lulus = False\n",
        "\n",
        "\n",
        "print (nama)\n",
        "print (umur)\n",
        "print (jurusan)\n",
        "print (semester)\n",
        "print (matakuliah)\n",
        "print (status_lulus)\n",
        "\n",
        "# Dengan Anotasi\n",
        "\n",
        "nama = str (\"Sandy\")\n",
        "umur = int (19)\n",
        "jurusan = str (\"RPE\")\n",
        "semester = int (3)\n",
        "matakuliah =str ('Pemrograman Dasar')\n",
        "status_lulus = bool (False)\n",
        "\n",
        "\n",
        "print (nama)\n",
        "print (umur)\n",
        "print (jurusan)\n",
        "print (semester)\n",
        "print (matakuliah)\n",
        "print (status_lulus)"
      ],
      "metadata": {
        "colab": {
          "base_uri": "https://localhost:8080/"
        },
        "id": "5q-hlP7ic303",
        "outputId": "480c2c3b-76fc-4cbf-fc44-75b630f8e893"
      },
      "execution_count": 39,
      "outputs": [
        {
          "output_type": "stream",
          "name": "stdout",
          "text": [
            "Sandy\n",
            "19\n",
            "RPE\n",
            "3\n",
            "Pemrograman Dasar\n",
            "False\n",
            "Sandy\n",
            "19\n",
            "RPE\n",
            "3\n",
            "Pemrograman Dasar\n",
            "False\n"
          ]
        }
      ]
    }
  ]
}