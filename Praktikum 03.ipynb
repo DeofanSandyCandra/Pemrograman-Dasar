{
  "nbformat": 4,
  "nbformat_minor": 0,
  "metadata": {
    "colab": {
      "provenance": [],
      "authorship_tag": "ABX9TyNBdee2OM9A+xgEHL2hRzQO",
      "include_colab_link": true
    },
    "kernelspec": {
      "name": "python3",
      "display_name": "Python 3"
    },
    "language_info": {
      "name": "python"
    }
  },
  "cells": [
    {
      "cell_type": "markdown",
      "metadata": {
        "id": "view-in-github",
        "colab_type": "text"
      },
      "source": [
        "<a href=\"https://colab.research.google.com/github/DeofanSandyCandra/Pemrograman-Dasar/blob/main/Praktikum%2003.ipynb\" target=\"_parent\"><img src=\"https://colab.research.google.com/assets/colab-badge.svg\" alt=\"Open In Colab\"/></a>"
      ]
    },
    {
      "cell_type": "code",
      "execution_count": 2,
      "metadata": {
        "colab": {
          "base_uri": "https://localhost:8080/"
        },
        "id": "MrLeAnJ9g8CQ",
        "outputId": "bf3e3e07-9ef2-4b28-e9bc-997cb4a8445f"
      },
      "outputs": [
        {
          "output_type": "stream",
          "name": "stdout",
          "text": [
            "Berapa porsi makanan yang Anda beli?: 25\n",
            "Siapa Nama Pelanggan?: saya\n",
            "Berapa porsi makan yang Anda beli?: 25.0\n",
            "Siapa Nama Pelanggan?:  saya\n"
          ]
        }
      ],
      "source": [
        "#total = int (input(\"Berapa porsi makan yang beli?: \"))\n",
        "#Nama = str (input(\"Siapa Nama Pelanggan?: \"))\n",
        "\n",
        "total = float (input(\"Berapa porsi makanan yang Anda beli?: \"))\n",
        "Nama = str (input(\"Siapa Nama Pelanggan?: \"))\n",
        "\n",
        "print(\"Berapa porsi makan yang Anda beli?:\" , total)\n",
        "print(\"Siapa Nama Pelanggan?: \", Nama )"
      ]
    },
    {
      "cell_type": "code",
      "source": [
        "food = \"Mi ayam bakso\"\n",
        "jumlah = 8\n",
        "pukul = 15.25\n",
        "\n",
        "\n",
        "\n",
        "print(\"Hendi sedang memesan\", food)\n",
        "\n",
        "print(\"Hendi sedang memesan \"+ food)\n",
        "\n",
        "print(\"Hendi sedang memesan %s\" % (food))\n",
        "\n",
        "print (\"Jumlahnya : %d\" % jumlah)\n",
        "\n",
        "print (\"Pukul : %.2f\" %  pukul)\n",
        "\n"
      ],
      "metadata": {
        "colab": {
          "base_uri": "https://localhost:8080/"
        },
        "id": "MvyrwqJWjtA3",
        "outputId": "aede2a14-b711-42d2-bdf1-ead52bfa04eb"
      },
      "execution_count": null,
      "outputs": [
        {
          "output_type": "stream",
          "name": "stdout",
          "text": [
            "Hendi sedang memesan Mi ayam bakso\n",
            "Hendi sedang memesan Mi ayam bakso\n",
            "Hendi sedang memesan Mi ayam bakso\n",
            "Jumlahnya : 8\n",
            "Pukul : 15.25\n"
          ]
        }
      ]
    },
    {
      "cell_type": "code",
      "source": [
        "# Data\n",
        "food = \"Mi ayam bakso\"\n",
        "jumlah = 8\n",
        "pukul = 15.25\n",
        "kode_hex = 255\n",
        "kode_oktal = 64\n",
        "\n",
        "\n",
        "print(\"Hendi sedang memesan:\", food)\n",
        "print(\"Hendi sedang memesan: %s\" % food)    # Print tipe data String\n",
        "print(\"Jumlahnya: %d porsi\" % jumlah)       # Print tipre data integer\n",
        "print(\"Pukul: %.2f WIB\" % pukul)            # Print tipe data float\n",
        "print(\"Kode Hexa: %#x\" % kode_hex)          # Print tipe data hexadesimal\n",
        "print(\"Kode Oktal: %#o\" % kode_oktal)       # Print tipe data Oktal"
      ],
      "metadata": {
        "colab": {
          "base_uri": "https://localhost:8080/"
        },
        "id": "AoJ6wbPErAcA",
        "outputId": "a9a11bb8-d83d-49f8-9a42-57886a9e21c6"
      },
      "execution_count": null,
      "outputs": [
        {
          "output_type": "stream",
          "name": "stdout",
          "text": [
            "Hendi sedang memesan: Mi ayam bakso\n",
            "Hendi sedang memesan: Mi ayam bakso\n",
            "Jumlahnya: 8 porsi\n",
            "Pukul: 15.25 WIB\n",
            "Kode Hexa: 0xff\n",
            "Kode Oktal: 0o100\n"
          ]
        }
      ]
    },
    {
      "cell_type": "code",
      "source": [
        "#Kalkulator sederhana\n",
        "a = 80\n",
        "b = 10\n",
        "\n",
        "print(\"penjumlahan\", a + b )\n",
        "print(\"pengurangan\", a - b )\n",
        "print(\"perkalian\", a * b )\n",
        "print(\"pembagian\", a / b )"
      ],
      "metadata": {
        "colab": {
          "base_uri": "https://localhost:8080/"
        },
        "id": "P9unuwMsuYHU",
        "outputId": "a4e1c9f2-cea5-4d94-ac18-f0d6c48026ac"
      },
      "execution_count": null,
      "outputs": [
        {
          "output_type": "stream",
          "name": "stdout",
          "text": [
            "penjumlahan 90\n",
            "pengurangan 70\n",
            "perkalian 800\n",
            "pembagian 8.0\n"
          ]
        }
      ]
    },
    {
      "cell_type": "code",
      "source": [
        "#kalkulator kasir\n",
        "harga_makan = float(input(\"berapa harga mi ayam per porsi? \"))\n",
        "jumlah_makan = int(input(\"berapa porsi yang sudah anda beli? \"))\n",
        "total_makan = harga_makan * jumlah_makan\n",
        "\n",
        "print (f\"harga makan per porsi = {harga_makan}, totalnya adalah {total_makan}\")"
      ],
      "metadata": {
        "colab": {
          "base_uri": "https://localhost:8080/"
        },
        "id": "zuSOfbHKzty3",
        "outputId": "8138a938-3786-4eb7-f810-b0087fc22ddd"
      },
      "execution_count": null,
      "outputs": [
        {
          "output_type": "stream",
          "name": "stdout",
          "text": [
            "berapa harga mi ayam per porsi? 25000\n",
            "berapa porsi yang sudah anda beli? 6\n",
            "harga makan per porsi = 25000.0, totalnya adalah 150000.0\n"
          ]
        }
      ]
    },
    {
      "cell_type": "code",
      "source": [
        "total_detik =int(input(\"Masukkan total detik: \"))\n",
        "jam = total_detik // 3600\n",
        "sisa_detik = total_detik % 3600\n",
        "menit = sisa_detik // 60\n",
        "detik = sisa_detik % 60\n",
        "print(f\"Hasil konversi: {jam} Jam, {menit} Menit, {detik} Detik\")"
      ],
      "metadata": {
        "colab": {
          "base_uri": "https://localhost:8080/"
        },
        "id": "l9qchhe8GtGL",
        "outputId": "be0b028a-08fd-41e4-dd9b-80ca8e28599c"
      },
      "execution_count": null,
      "outputs": [
        {
          "output_type": "stream",
          "name": "stdout",
          "text": [
            "Masukkan total detik: 358200\n",
            "Hasil konversi: 99 Jam, 30 Menit, 0 Detik\n"
          ]
        }
      ]
    },
    {
      "cell_type": "code",
      "source": [
        "tugas = 80\n",
        "\n",
        "uts = 70\n",
        "\n",
        "uas = 90\n",
        "\n",
        "nilai_akhir = (0.3 * tugas) + (0.3 * uts) + (0.4 * uas)\n",
        "print(\"Nilai akhir\", nilai_akhir)\n"
      ],
      "metadata": {
        "colab": {
          "base_uri": "https://localhost:8080/"
        },
        "id": "ndVVNmlrQZOJ",
        "outputId": "cd9f7068-1b5a-4ccd-b874-7bba5105a304"
      },
      "execution_count": null,
      "outputs": [
        {
          "output_type": "stream",
          "name": "stdout",
          "text": [
            "Nilai akhir 81.0\n"
          ]
        }
      ]
    },
    {
      "cell_type": "code",
      "source": [
        "\n",
        "\n",
        "nilai_mahasiswa = float(input(\"Masukkan nilai mahasiswa: \"))\n",
        "\n",
        "standar_kelulusan = float (input(\"Masukkan standar kelulusan: \"))\n",
        "\n",
        "apakah_lulus = nilai_mahasiswa >= standar_kelulusan\n",
        "\n",
        "perlu_remedial = nilai_mahasiswa < standar_kelulusan\n",
        "\n",
        "print(f\"Nilai Mahasiswa: {nilai_mahasiswa}\")\n",
        "\n",
        "print(f\"Standar Kelulusan: {standar_kelulusan}\")\n",
        "\n",
        "print(f\"Apakah Mahasiswa Lulus? {apakah_lulus}\")\n",
        "\n",
        "print(f\"Perlu Remedial? {perlu_remedial}\")"
      ],
      "metadata": {
        "colab": {
          "base_uri": "https://localhost:8080/"
        },
        "id": "h7o_KCoHRaOS",
        "outputId": "7acb1536-a75b-453b-c806-05aa5a6f167c"
      },
      "execution_count": null,
      "outputs": [
        {
          "output_type": "stream",
          "name": "stdout",
          "text": [
            "Masukkan nilai mahasiswa: 60\n",
            "Masukkan standar kelulusan: 85\n",
            "Nilai Mahasiswa: 60.0\n",
            "Standar Kelulusan: 85.0\n",
            "Apakah Mahasiswa Lulus? False\n",
            "Perlu Remedial? True\n"
          ]
        }
      ]
    },
    {
      "cell_type": "code",
      "source": [
        "# Input nilai\n",
        "tugas = float(input(\"Masukkan nilai tugas: \"))\n",
        "uts = float(input(\"Masukkan nilai UTS: \"))\n",
        "uas = float(input(\"Masukkan nilai UAS: \"))\n",
        "quiz = float(input(\"Masukkan nilai quiz: \"))\n",
        "partisipasi = float(input(\"Masukkan nilai partisipasi: \"))\n",
        "\n",
        "# presentase penilaian\n",
        "nilai_akhir = (0.2 * tugas) + (0.3 * uts) + (0.3 * uas) + (0.1 * quiz) + (0.1 * partisipasi)\n",
        "\n",
        "# Penentuan Kelulusan\n",
        "standar_kelulusan = 70\n",
        "apakah_lulus = nilai_akhir >= standar_kelulusan\n",
        "perlu_remedial = nilai_akhir < standar_kelulusan\n",
        "\n",
        "\n",
        "\n",
        "print(f\"Nilai akhir Mahasiswa: {nilai_akhir}\")\n",
        "\n",
        "print(f\"Standar Kelulusan: {standar_kelulusan}\")\n",
        "\n",
        "print(f\"Apakah Mahasiswa Lulus? {apakah_lulus}\")\n",
        "\n",
        "print(f\"Perlu Remedial? {perlu_remedial}\")\n",
        "print(f\"\\nNilai Tugas: {tugas}\")\n",
        "print(f\"Nilai UTS: {uts}\")\n",
        "print(f\"Nilai UAS: {uas}\")\n",
        "print(f\"Nilai Akhir: {nilai_akhir:.2f}\")"
      ],
      "metadata": {
        "colab": {
          "base_uri": "https://localhost:8080/"
        },
        "id": "pDecUA0LVFgG",
        "outputId": "ec09175c-2349-4aa1-e27f-aa120290c99a"
      },
      "execution_count": null,
      "outputs": [
        {
          "output_type": "stream",
          "name": "stdout",
          "text": [
            "Masukkan nilai tugas: 90\n",
            "Masukkan nilai UTS: 60\n",
            "Masukkan nilai UAS: 75\n",
            "Masukkan nilai quiz: 90\n",
            "Masukkan nilai partisipasi: 90\n",
            "Nilai akhir Mahasiswa: 76.5\n",
            "Standar Kelulusan: 70\n",
            "Apakah Mahasiswa Lulus? True\n",
            "Perlu Remedial? False\n",
            "\n",
            "Nilai Tugas: 90.0\n",
            "Nilai UTS: 60.0\n",
            "Nilai UAS: 75.0\n",
            "Nilai Akhir: 76.50\n"
          ]
        }
      ]
    },
    {
      "cell_type": "code",
      "source": [
        "\n",
        "\n",
        "belanja = float(input(\"Masukkan total belanja: \"))\n",
        "\n",
        "diskon = (0, 0.35 * belanja) [belanja > 1000000]\n",
        "\n",
        "total_harga = belanja - diskon\n",
        "\n",
        "nominal_diskon = belanja - total_harga\n",
        "\n",
        "presentase_diskon = diskon / belanja\n",
        "\n",
        "print(f\"Total harga setelah diskon : Rp, {total_harga:,.2f}\")\n",
        "print(f\"Presentase Diskon yang anda peroleh : , {presentase_diskon:,.2f}\")\n",
        "print(f\"Uang yang anda hemat : Rp, {nominal_diskon:,.2f}\")"
      ],
      "metadata": {
        "colab": {
          "base_uri": "https://localhost:8080/"
        },
        "id": "jPGnCa1MgEGc",
        "outputId": "8ff6919f-597b-4f30-fe26-056620449996"
      },
      "execution_count": null,
      "outputs": [
        {
          "output_type": "stream",
          "name": "stdout",
          "text": [
            "Masukkan total belanja: 6000000\n",
            "Total harga setelah diskon : Rp, 3,900,000.00\n",
            "Presentase Diskon yang anda peroleh : , 0.35\n",
            "Uang yang anda hemat : Rp, 2,100,000.00\n"
          ]
        }
      ]
    }
  ]
}