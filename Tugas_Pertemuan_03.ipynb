{
  "nbformat": 4,
  "nbformat_minor": 0,
  "metadata": {
    "colab": {
      "provenance": [],
      "authorship_tag": "ABX9TyNa/el/rlAJD5njbgyMqw75",
      "include_colab_link": true
    },
    "kernelspec": {
      "name": "python3",
      "display_name": "Python 3"
    },
    "language_info": {
      "name": "python"
    }
  },
  "cells": [
    {
      "cell_type": "markdown",
      "metadata": {
        "id": "view-in-github",
        "colab_type": "text"
      },
      "source": [
        "<a href=\"https://colab.research.google.com/github/DeofanSandyCandra/Pemrograman-Dasar/blob/main/Tugas_Pertemuan_03.ipynb\" target=\"_parent\"><img src=\"https://colab.research.google.com/assets/colab-badge.svg\" alt=\"Open In Colab\"/></a>"
      ]
    },
    {
      "cell_type": "code",
      "execution_count": 16,
      "metadata": {
        "colab": {
          "base_uri": "https://localhost:8080/"
        },
        "id": "TlIua9zz1kH4",
        "outputId": "72340e56-882d-4901-a9ef-223e207e9e7b"
      },
      "outputs": [
        {
          "output_type": "stream",
          "name": "stdout",
          "text": [
            "Masukkan harga item : 200000\n",
            "Masukkan harga item : 0\n",
            "Masukkan harga item : 0\n",
            "Masukkan harga item : 0\n",
            "Masukkan harga item : 0\n",
            "Masukkan harga item : 0\n",
            "Apakah member? (yes/no)1\n",
            "\n",
            "Total belanja Anda      : Rp 200,000.00\n",
            "Diskon yang Anda dapatkan : Rp 0.00\n",
            "Presentase Diskon         : 0%\n",
            "PPN                      : Rp 22,000.00\n",
            "Total yang Anda bayar     : Rp 222,000.00\n"
          ]
        }
      ],
      "source": [
        "# Input harga item\n",
        "belanja1 = float(input(\"Masukkan harga item : \"))\n",
        "belanja2 = float(input(\"Masukkan harga item : \"))\n",
        "belanja3 = float(input(\"Masukkan harga item : \"))\n",
        "belanja4 = float(input(\"Masukkan harga item : \"))\n",
        "belanja5 = float(input(\"Masukkan harga item : \"))\n",
        "belanja6 = float(input(\"Masukkan harga item : \"))\n",
        "\n",
        "# Total bealnja\n",
        "total_belanja = belanja1 + belanja2 + belanja3 + belanja4 + belanja5 + belanja6\n",
        "\n",
        "\n",
        "# Input member\n",
        "member_input = str (input(\"Apakah member? (yes/no)\"\n",
        "))\n",
        "is_member = member_input.lower() == \"yes\"\n",
        "\n",
        "# Syarat diskon\n",
        "syarat_diskon = (total_belanja > 100000) and is_member\n",
        "diskon = 0.15 * total_belanja * syarat_diskon\n",
        "\n",
        "# PPN\n",
        "ppn = 0.11 * total_belanja\n",
        "\n",
        "# Total bayar dan persentase\n",
        "total_bayar = total_belanja + ppn - diskon\n",
        "presentase_diskon = (diskon / total_belanja * 100)\n",
        "\n",
        "\n",
        "print(f\"\\nTotal belanja Anda      : Rp {total_belanja:,.2f}\")\n",
        "print(f\"Diskon yang Anda dapatkan : Rp {diskon:,.2f}\")\n",
        "print(f\"Presentase Diskon         : {presentase_diskon:.0f}%\")\n",
        "print (f\"PPN                      : Rp {ppn:,.2f}\")\n",
        "print(f\"Total yang Anda bayar     : Rp {total_bayar:,.2f}\")\n"
      ]
    },
    {
      "cell_type": "code",
      "source": [
        "# FUngsi input\n",
        "tahun = int(input(\"Masukkan tahun : \"))\n",
        "\n",
        "# Operasi aritmetika\n",
        "tahun_kabisat = (tahun % 4 == 0 and tahun % 100 != 0) or (tahun % 400 == 0)\n",
        "\n",
        "# Output\n",
        "status = [\"Bukan tahun kabisat\", \"Tahun kabisat\"][tahun_kabisat]\n",
        "print(f\"Tahun {tahun} adalah: {status}\")\n"
      ],
      "metadata": {
        "colab": {
          "base_uri": "https://localhost:8080/"
        },
        "id": "wUiVMxbsrf4V",
        "outputId": "457f2280-c1f6-48a3-ba5f-fd163060e199"
      },
      "execution_count": null,
      "outputs": [
        {
          "output_type": "stream",
          "name": "stdout",
          "text": [
            "Masukkan tahun : 2024\n",
            "Tahun 2024 adalah: Tahun kabisat\n"
          ]
        }
      ]
    }
  ]
}