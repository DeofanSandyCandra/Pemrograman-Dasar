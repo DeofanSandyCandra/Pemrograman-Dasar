{
  "nbformat": 4,
  "nbformat_minor": 0,
  "metadata": {
    "colab": {
      "provenance": [],
      "authorship_tag": "ABX9TyPbuugudMYTA8870L9VWVmU",
      "include_colab_link": true
    },
    "kernelspec": {
      "name": "python3",
      "display_name": "Python 3"
    },
    "language_info": {
      "name": "python"
    }
  },
  "cells": [
    {
      "cell_type": "markdown",
      "metadata": {
        "id": "view-in-github",
        "colab_type": "text"
      },
      "source": [
        "<a href=\"https://colab.research.google.com/github/DeofanSandyCandra/Pemrograman-Dasar/blob/main/Tugas%20peremuan%2002.ipynb\" target=\"_parent\"><img src=\"https://colab.research.google.com/assets/colab-badge.svg\" alt=\"Open In Colab\"/></a>"
      ]
    },
    {
      "cell_type": "code",
      "execution_count": 19,
      "metadata": {
        "colab": {
          "base_uri": "https://localhost:8080/"
        },
        "id": "uzujlvZwDxl0",
        "outputId": "eb566dfe-a5a0-43d4-9448-851840083f1f"
      },
      "outputs": [
        {
          "output_type": "stream",
          "name": "stdout",
          "text": [
            "First Name: Deofan Sandy\n",
            "Last Name: Candra\n",
            "Age: 19\n",
            "Is Married: False\n"
          ]
        }
      ],
      "source": [
        "#Tugas 1\n",
        "# TODO silahkan buat kode anda dibawah ini\n",
        "\n",
        "firstName = \"Deofan Sandy\"\n",
        "lastName = \"Candra\"\n",
        "age = 19\n",
        "isMarried = False\n",
        "\n",
        "print(\"First Name:\", firstName)\n",
        "print(\"Last Name:\", lastName)\n",
        "print(\"Age:\", age)\n",
        "print(\"Is Married:\", isMarried)"
      ]
    },
    {
      "cell_type": "code",
      "source": [
        "# Tugas 2\n",
        "# TODO Silakan buat kode Anda di bawah ini\n",
        "\n",
        "data_diri = {\n",
        "\"firstName\": \"Deofan Sandy\",\n",
        "\"lastName\": \"Candra\",\n",
        "\"age\": 19,\n",
        "\"isMarried\": False\n",
        "}\n",
        "\n",
        "print(\"Data Diri\")\n",
        "for key, value in data_diri.items():\n",
        "    print(\"-\", key + \":\", value)\n",
        "print()"
      ],
      "metadata": {
        "colab": {
          "base_uri": "https://localhost:8080/"
        },
        "id": "jytdwrPQFP5T",
        "outputId": "b9ab4b3b-7e6d-4ce9-8918-190b85a895d0"
      },
      "execution_count": 7,
      "outputs": [
        {
          "output_type": "stream",
          "name": "stdout",
          "text": [
            "Data Diri\n",
            "- firstName: Deofan Sandy\n",
            "- lastName: Candra\n",
            "- age: 19\n",
            "- isMarried: False\n",
            "\n"
          ]
        }
      ]
    },
    {
      "cell_type": "code",
      "source": [
        "# TODO: Tulislah kode jawaban di bawah ini\n",
        "\n",
        "inspeksi = [\n",
        "    \"pemahaman terhadap rencana dan desain\",\n",
        "    \"ketersediaan bahan dan peralatan\",\n",
        "    \"pengawasan pekerjaan\",\n",
        "    \"kualitas konstruksi\",\n",
        "    \"keselamatan kerja\",\n",
        "    \"koordinasi dengan pemilik proyek\"\n",
        "]\n",
        "\n",
        "# Menampilkan judul dan isi list\n",
        "print(\"* Daftar Inspeksi:\")\n",
        "for item in inspeksi:\n",
        "    print(\"-\", item)"
      ],
      "metadata": {
        "colab": {
          "base_uri": "https://localhost:8080/"
        },
        "id": "-Nsk8QOCHgI5",
        "outputId": "da1f3ff1-030e-4083-cbe5-56251c5b1ac1"
      },
      "execution_count": 10,
      "outputs": [
        {
          "output_type": "stream",
          "name": "stdout",
          "text": [
            "* Daftar Inspeksi:\n",
            "- pemahaman terhadap rencana dan desain\n",
            "- ketersediaan bahan dan peralatan\n",
            "- pengawasan pekerjaan\n",
            "- kualitas konstruksi\n",
            "- keselamatan kerja\n",
            "- koordinasi dengan pemilik proyek\n"
          ]
        }
      ]
    },
    {
      "cell_type": "code",
      "source": [
        "# Tugas 4\n",
        "# TODO Silakan buat kode Anda di bawah ini\n",
        "\n",
        "# Waktu datang\n",
        "startTime = {\n",
        "    \"HH\": 9,\n",
        "    \"mm\": 23,\n",
        "    \"ss\": 57 }\n",
        "\n",
        "# Waktu pulang\n",
        "endTime = {\n",
        "    \"HH\": 15,\n",
        "    \"mm\": 25,\n",
        "    \"ss\": 43 }\n",
        "\n",
        "print(startTime)\n",
        "\n",
        "print(endTime)\n"
      ],
      "metadata": {
        "colab": {
          "base_uri": "https://localhost:8080/"
        },
        "id": "WC7kW3E9ILH3",
        "outputId": "dc75d5da-420d-4989-ea15-932b69c1fea8"
      },
      "execution_count": 14,
      "outputs": [
        {
          "output_type": "stream",
          "name": "stdout",
          "text": [
            "{'HH': 9, 'mm': 23, 'ss': 57}\n",
            "{'HH': 15, 'mm': 25, 'ss': 43}\n"
          ]
        }
      ]
    },
    {
      "cell_type": "code",
      "source": [
        "\n",
        "# Katalog A\n",
        "katalog_A = {\n",
        "    \"Red Dead Redemption 2\",\n",
        "    \"Grand Theft Auto V\",\n",
        "    \"Grand Theft Auto IV\",\n",
        "    \"Max Payne 3\",\n",
        "}\n",
        "# Katalog B\n",
        "katalog_B = {\n",
        "    \"Laut Bercerita – Leila S. Chudori\",\n",
        "    \"172 Days – Nadzira Shafa\",\n",
        "    \"Heartbreak Motel – Cha Mirae\",\n",
        "    \"Perpustakaan Tengah Malam – Matt Haig\",\n",
        "}\n",
        "produk_promo = (\n",
        "    \"Red Dead Redemption 2\",\n",
        "    \"Laut Bercerita – Leila S. Chudori\",\n",
        ")\n",
        "# Gabungkan katalog A dan B\n",
        "katalog_lengkap = katalog_A.union(katalog_B)\n",
        "\n",
        "# Cari produk promo yang aktif (ada di katalog)\n",
        "produk_promo_aktif = set(produk_promo).intersection(katalog_lengkap)\n",
        "\n",
        "# Cetak hasil\n",
        "print(\"Katalog Lengkap:\")\n",
        "for item in sorted(katalog_lengkap):\n",
        "    print(\"-\", item)\n",
        "\n",
        "print(\"\\n Produk Promo Aktif:\")\n",
        "for item in sorted(produk_promo_aktif):\n",
        "    print(\"-\", item)"
      ],
      "metadata": {
        "colab": {
          "base_uri": "https://localhost:8080/"
        },
        "id": "LlwQT2yyLe7d",
        "outputId": "8e5ee10f-1afe-46f0-cc64-d50ef9475bbc"
      },
      "execution_count": 20,
      "outputs": [
        {
          "output_type": "stream",
          "name": "stdout",
          "text": [
            "Katalog Lengkap:\n",
            "- 172 Days – Nadzira Shafa\n",
            "- Grand Theft Auto IV\n",
            "- Grand Theft Auto V\n",
            "- Heartbreak Motel – Cha Mirae\n",
            "- Laut Bercerita – Leila S. Chudori\n",
            "- Max Payne 3\n",
            "- Perpustakaan Tengah Malam – Matt Haig\n",
            "- Red Dead Redemption 2\n",
            "\n",
            " Produk Promo Aktif:\n",
            "- Laut Bercerita – Leila S. Chudori\n",
            "- Red Dead Redemption 2\n"
          ]
        }
      ]
    }
  ]
}