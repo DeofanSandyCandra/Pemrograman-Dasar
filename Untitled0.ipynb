{
  "nbformat": 4,
  "nbformat_minor": 0,
  "metadata": {
    "colab": {
      "provenance": [],
      "authorship_tag": "ABX9TyP3w68ACBwrRDEoLIBnxQe6",
      "include_colab_link": true
    },
    "kernelspec": {
      "name": "python3",
      "display_name": "Python 3"
    },
    "language_info": {
      "name": "python"
    }
  },
  "cells": [
    {
      "cell_type": "markdown",
      "metadata": {
        "id": "view-in-github",
        "colab_type": "text"
      },
      "source": [
        "<a href=\"https://colab.research.google.com/github/DeofanSandyCandra/Pemrograman-Dasar/blob/main/Untitled0.ipynb\" target=\"_parent\"><img src=\"https://colab.research.google.com/assets/colab-badge.svg\" alt=\"Open In Colab\"/></a>"
      ]
    },
    {
      "cell_type": "code",
      "execution_count": null,
      "metadata": {
        "id": "9RsnSyZwp0h-"
      },
      "outputs": [],
      "source": [
        "# Tugas 2\n",
        "def identitas (nama)"
      ]
    },
    {
      "cell_type": "code",
      "source": [
        "# Variabel global\n",
        "nama = \"Siti\"\n",
        "nilai = 85\n",
        "\n",
        "# Fungsi dengan variabel lokal dan built-in\n",
        "def evaluasi():\n",
        "    print(\"Ini variabel lokal:\")\n",
        "    nama = \"Rina\"\n",
        "    nilai = 92\n",
        "    status = True  # variabel lokal\n",
        "    print(\"Nama:\", nama)             # lokal\n",
        "    print(\"Nilai:\", nilai)           # lokal\n",
        "    print(\"Status lulus:\", status)   # lokal\n",
        "    print(\"Tipe data status:\", type(status))  # built-in function\n",
        "\n",
        "# Menampilkan variabel global\n",
        "print(\"Penggunaan variabel global:\")\n",
        "print(\"Nama:\", nama)\n",
        "print(\"Nilai:\", nilai)\n",
        "\n",
        "# Memanggil fungsi\n",
        "evaluasi()"
      ],
      "metadata": {
        "colab": {
          "base_uri": "https://localhost:8080/"
        },
        "id": "lX-77Ppr72oV",
        "outputId": "53db50fa-5e6a-4bc0-fba9-bab467b713bf"
      },
      "execution_count": 2,
      "outputs": [
        {
          "output_type": "stream",
          "name": "stdout",
          "text": [
            "Penggunaan variabel global:\n",
            "Nama: Siti\n",
            "Nilai: 85\n",
            "Ini variabel lokal:\n",
            "Nama: Rina\n",
            "Nilai: 92\n",
            "Status lulus: True\n",
            "Tipe data status: <class 'bool'>\n"
          ]
        }
      ]
    },
    {
      "cell_type": "code",
      "source": [
        "def sapa():\n",
        "    print(\"Halo, selamat datang!\")\n",
        "    print(\"Semoga harimu menyenangkan 😊\")\n",
        "\n",
        "sapa()  # ← Ini yang menjalankan block code"
      ],
      "metadata": {
        "colab": {
          "base_uri": "https://localhost:8080/"
        },
        "id": "q7hVg1rv7dqA",
        "outputId": "8c69104f-0cc3-4420-8f6b-a1854a36c072"
      },
      "execution_count": null,
      "outputs": [
        {
          "output_type": "stream",
          "name": "stdout",
          "text": [
            "Halo, selamat datang!\n",
            "Semoga harimu menyenangkan 😊\n"
          ]
        }
      ]
    },
    {
      "cell_type": "code",
      "source": [
        "print (\"ayam\")"
      ],
      "metadata": {
        "colab": {
          "base_uri": "https://localhost:8080/"
        },
        "id": "mF14KbRc8VZ7",
        "outputId": "33b5148d-c112-49f4-fdc3-1974ee3c9be7"
      },
      "execution_count": null,
      "outputs": [
        {
          "output_type": "stream",
          "name": "stdout",
          "text": [
            "ayam\n"
          ]
        }
      ]
    },
    {
      "cell_type": "code",
      "source": [
        "# Pembuatan Fungsi\n",
        "def data_diri_saya():\n",
        "    print(\"Nama : Deofan Sandy Candra\")\n",
        "    print(\"Prodi : Teknologi Rekayasa Pemabngkit Energi\")\n",
        "    print(\"Semester : 3\")\n",
        "    print(\"Kelas : TRPE Pagi A\")\n",
        "\n",
        "# Pemanggilan fungsi\n",
        "data_diri_saya()\n",
        "\n",
        "# Pemanggilan Fungsi 3x\n",
        "data_diri_saya()\n",
        "data_diri_saya()\n",
        "data_diri_saya()"
      ],
      "metadata": {
        "colab": {
          "base_uri": "https://localhost:8080/"
        },
        "id": "Ukyxw2RPrAU0",
        "outputId": "d4fc8ed9-0c7e-4d15-b21f-f2a82ac8e2ee"
      },
      "execution_count": null,
      "outputs": [
        {
          "output_type": "stream",
          "name": "stdout",
          "text": [
            "Nama : Deofan Sandy Candra\n",
            "Prodi : Teknologi Rekayasa Pemabngkit Energi\n",
            "Semester : 3\n",
            "Kelas : TRPE Pagi A\n",
            "Nama : Deofan Sandy Candra\n",
            "Prodi : Teknologi Rekayasa Pemabngkit Energi\n",
            "Semester : 3\n",
            "Kelas : TRPE Pagi A\n",
            "Nama : Deofan Sandy Candra\n",
            "Prodi : Teknologi Rekayasa Pemabngkit Energi\n",
            "Semester : 3\n",
            "Kelas : TRPE Pagi A\n",
            "Nama : Deofan Sandy Candra\n",
            "Prodi : Teknologi Rekayasa Pemabngkit Energi\n",
            "Semester : 3\n",
            "Kelas : TRPE Pagi A\n"
          ]
        }
      ]
    },
    {
      "cell_type": "code",
      "source": [
        "# Fungsi dengan parameter\n",
        "def volume_balok(panjang, lebar, tinggi):\n",
        "    volume = panjang * lebar * tinggi\n",
        "    print(\"Volume balok adalah: %d cm³\" % volume)\n",
        "\n",
        "# Mengambil input dari keyboard\n",
        "p = int(input(\"Masukkan panjang balok (cm): \"))\n",
        "l = int(input(\"Masukkan lebar balok (cm): \"))\n",
        "t = int(input(\"Masukkan tinggi balok (cm): \"))\n",
        "\n",
        "# Memanggil fungsi dengan input dari pengguna\n",
        "volume_balok(p, l, t)"
      ],
      "metadata": {
        "colab": {
          "base_uri": "https://localhost:8080/"
        },
        "id": "JpC9bNSLcI9G",
        "outputId": "7ffa5b0e-737b-4923-a78d-6090ee84c0c4"
      },
      "execution_count": null,
      "outputs": [
        {
          "output_type": "stream",
          "name": "stdout",
          "text": [
            "Masukkan panjang balok (cm): 9\n",
            "Masukkan lebar balok (cm): 9\n",
            "Masukkan tinggi balok (cm): 6\n",
            "Volume balok adalah: 486 cm³\n"
          ]
        }
      ]
    },
    {
      "cell_type": "code",
      "source": [
        "# Fungsi untuk menghitung luas permukaan kubus\n",
        "def luas_permukaan_kubus(sisi):\n",
        "    luas = 6 * sisi * sisi\n",
        "    return luas  # Mengembalikan hasil perhitungan\n",
        "\n",
        "# Input dari pengguna\n",
        "s = int(input(\"Masukkan panjang sisi kubus (cm): \"))\n",
        "\n",
        "# Menyimpan hasil dari fungsi\n",
        "hasil_luas = luas_permukaan_kubus(s)\n",
        "\n",
        "# Menampilkan hasil\n",
        "print(\"Luas permukaan kubus adalah: %d cm²\" % hasil_luas)x"
      ],
      "metadata": {
        "colab": {
          "base_uri": "https://localhost:8080/"
        },
        "id": "qQLeiufFhpHC",
        "outputId": "65afbe48-b698-43d5-bbe6-9edc464414cf"
      },
      "execution_count": null,
      "outputs": [
        {
          "output_type": "stream",
          "name": "stdout",
          "text": [
            "Masukkan panjang sisi kubus (cm): 56\n",
            "Luas permukaan kubus adalah: 18816 cm²\n"
          ]
        }
      ]
    },
    {
      "cell_type": "code",
      "source": [
        "# Variabel global untuk menyimpan data buku\n",
        "buku = [\n",
        "    \"The Chronicles of Narnia #1: The Magician`s Nephew\",\n",
        "    \"Pangeran Cilik: Le Petit Prince\",\n",
        "    \"Nyanyian Achilles (The Song of Achilles)\",\n",
        "    \"Student Hidjo\",\n",
        "    \"Funiculi Funicula\"\n",
        "]\n",
        "\n",
        "# Fungsi untuk menampilkan semua data\n",
        "def tampilkan_buku():\n",
        "    print(\"\\n Daftar Buku:\")\n",
        "    print(\"-\" * 40)\n",
        "    if not buku:\n",
        "        print(\"Belum ada data buku.\")\n",
        "    else:\n",
        "        for i, judul in enumerate(buku):\n",
        "            print(f\"{i + 1}. {judul}\")\n",
        "    print(\"-\" * 40)\n",
        "    input(\"Tekan Enter untuk kembali ke menu...\")\n",
        "\n",
        "# Fungsi untuk menambahkan data\n",
        "def tambah_buku():\n",
        "    judul = input(\"Masukkan judul buku yang ingin ditambahkan: \")\n",
        "    if judul:\n",
        "        buku.append(judul)\n",
        "        print(\"Buku berhasil ditambahkan.\")\n",
        "    else:\n",
        "        print(\"Judul tidak boleh kosong.\")\n",
        "\n",
        "# Fungsi untuk mengedit data\n",
        "def ubah_buku():\n",
        "    tampilkan_buku()\n",
        "    try:\n",
        "        indeks = int(input(\"Masukkan nomor buku yang ingin diubah: \")) - 1\n",
        "        if 0 <= indeks < len(buku):\n",
        "            judul_baru = input(\"Masukkan judul buku yang baru: \")\n",
        "            if judul_baru:\n",
        "                buku[indeks] = judul_baru\n",
        "                print(\"Buku berhasil diubah.\")\n",
        "            else:\n",
        "                print(\"Judul baru tidak boleh kosong.\")\n",
        "        else:\n",
        "            print(\"Nomor tidak valid.\")\n",
        "    except ValueError:\n",
        "        print(\"Input harus berupa angka.\")\n",
        "\n",
        "# Fungsi untuk menghapus data\n",
        "def hapus_buku():\n",
        "    tampilkan_buku()\n",
        "    try:\n",
        "        indeks = int(input(\"Masukkan nomor buku yang ingin dihapus: \")) - 1\n",
        "        if 0 <= indeks < len(buku):\n",
        "            konfirmasi = input(\"Yakin ingin menghapus? (ya/tidak): \").lower()\n",
        "            if konfirmasi == \"ya\":\n",
        "                buku.pop(indeks)\n",
        "                print(\"Buku berhasil dihapus.\")\n",
        "            else:\n",
        "                print(\"Penghapusan dibatalkan.\")\n",
        "        else:\n",
        "            print(\"Nomor tidak valid.\")\n",
        "    except ValueError:\n",
        "        print(\"Input harus berupa angka.\")\n",
        "\n",
        "# Fungsi tambahan untuk menampilkan statistik\n",
        "def statistik_buku():\n",
        "    jumlah = len(buku)                      # int\n",
        "    unik = set(buku)                        # set\n",
        "    contoh = tuple(unik)[:3]                # tuple\n",
        "    info = {                                # dictionary\n",
        "        \"total\": jumlah,\n",
        "        \"judul_unik\": len(unik),\n",
        "        \"contoh\": contoh\n",
        "    }\n",
        "    print(\"\\nStatistik Buku:\")\n",
        "    print(\"Jumlah buku:\", info[\"total\"])\n",
        "    print(\"Jumlah judul unik:\", info[\"judul_unik\"])\n",
        "    print(\"Contoh judul:\", info[\"contoh\"])\n",
        "    input(\"Tekan Enter untuk kembali ke menu...\")\n",
        "\n",
        "# Menu utama\n",
        "def menu():\n",
        "    aktif = True                            # boolean\n",
        "    while aktif:\n",
        "        print(\"\\n📖 Menu CRUD Data Buku\")\n",
        "        print(\"1. Tampilkan Buku\")\n",
        "        print(\"2. Tambah Buku\")\n",
        "        print(\"3. Ubah Buku\")\n",
        "        print(\"4. Hapus Buku\")\n",
        "        print(\"5. Statistik Buku\")\n",
        "        print(\"6. Keluar\")\n",
        "        pilihan = input(\"Pilih menu (1-6): \")\n",
        "\n",
        "        if pilihan == \"1\":\n",
        "            tampilkan_buku()\n",
        "        elif pilihan == \"2\":\n",
        "            tambah_buku()\n",
        "        elif pilihan == \"3\":\n",
        "            ubah_buku()\n",
        "        elif pilihan == \"4\":\n",
        "            hapus_buku()\n",
        "        elif pilihan == \"5\":\n",
        "            statistik_buku()\n",
        "        elif pilihan == \"6\":\n",
        "            print(\"Terima kasih telah menggunakan program ini.\")\n",
        "            aktif = False\n",
        "        else:\n",
        "            print(\"Pilihan tidak valid. Silakan coba lagi.\")\n",
        "\n",
        "# Menjalankan program\n",
        "menu()\n",
        "\n",
        "\n",
        "\n",
        "\n",
        "\n",
        "\n"
      ],
      "metadata": {
        "colab": {
          "base_uri": "https://localhost:8080/"
        },
        "id": "ii_VLt1wHzDR",
        "outputId": "d5ccd00c-4842-4dc0-f5db-b2af2dcf4c89"
      },
      "execution_count": 8,
      "outputs": [
        {
          "output_type": "stream",
          "name": "stdout",
          "text": [
            "\n",
            "📖 Menu CRUD Data Buku\n",
            "1. Tampilkan Buku\n",
            "2. Tambah Buku\n",
            "3. Ubah Buku\n",
            "4. Hapus Buku\n",
            "5. Statistik Buku\n",
            "6. Keluar\n",
            "Pilih menu (1-6): 6\n",
            "Terima kasih telah menggunakan program ini.\n"
          ]
        }
      ]
    }
  ]
}