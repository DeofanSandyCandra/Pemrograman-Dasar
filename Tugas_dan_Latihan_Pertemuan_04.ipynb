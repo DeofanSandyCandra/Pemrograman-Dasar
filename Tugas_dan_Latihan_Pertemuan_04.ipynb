{
  "nbformat": 4,
  "nbformat_minor": 0,
  "metadata": {
    "colab": {
      "provenance": [],
      "authorship_tag": "ABX9TyPG/WUVA/wAvbeofx4C5QYT",
      "include_colab_link": true
    },
    "kernelspec": {
      "name": "python3",
      "display_name": "Python 3"
    },
    "language_info": {
      "name": "python"
    }
  },
  "cells": [
    {
      "cell_type": "markdown",
      "metadata": {
        "id": "view-in-github",
        "colab_type": "text"
      },
      "source": [
        "<a href=\"https://colab.research.google.com/github/DeofanSandyCandra/Pemrograman-Dasar/blob/main/Tugas_dan_Latihan_Pertemuan_04.ipynb\" target=\"_parent\"><img src=\"https://colab.research.google.com/assets/colab-badge.svg\" alt=\"Open In Colab\"/></a>"
      ]
    },
    {
      "cell_type": "code",
      "execution_count": null,
      "metadata": {
        "colab": {
          "base_uri": "https://localhost:8080/"
        },
        "id": "SDow_SrCjgs9",
        "outputId": "356ef62a-7982-4869-8f34-2e9d7e9ce4e0"
      },
      "outputs": [
        {
          "output_type": "stream",
          "name": "stdout",
          "text": [
            "Masukkan angka: 8\n",
            "Bukan kelipatan 5\n"
          ]
        }
      ],
      "source": [
        "# Input\n",
        "angka = int(input(\"Masukkan angka: \"))\n",
        "\n",
        "# Logikanya\n",
        "if angka % 5 == 0:\n",
        "    print(\"Kelipatan 5\")\n",
        "else:\n",
        "    print(\"Bukan kelipatan 5\")"
      ]
    },
    {
      "cell_type": "code",
      "source": [
        "tahun = int(input(\"Masukkan angka: \"))\n",
        "\n",
        "#Logikanya\n",
        "if tahun % 400 == 0:\n",
        "    print(\"Kabisat\")\n",
        "\n",
        "elif tahun % 4 == 0 and tahun % 100 != 0:\n",
        "    print(\"Kabisat\")\n",
        "else:\n",
        "    print(\"Bukan kabisat\")"
      ],
      "metadata": {
        "colab": {
          "base_uri": "https://localhost:8080/"
        },
        "id": "q-UpWlCxrVpy",
        "outputId": "5fc7ac90-f3ef-47ec-f918-7cdf711e753b"
      },
      "execution_count": null,
      "outputs": [
        {
          "output_type": "stream",
          "name": "stdout",
          "text": [
            "Masukkan angka: 2020\n",
            "Kabisat\n"
          ]
        }
      ]
    },
    {
      "cell_type": "code",
      "source": [
        "print(\"Pilih fungsi trigonometri:\")\n",
        "print(\"1. sin\")\n",
        "print(\"2. cos\")\n",
        "print(\"3. tan\")\n",
        "fungsi = input(\"Masukkan pilihan (sin/cos/tan): \")\n",
        "\n",
        "print(\"\\nPilih derajat:\")\n",
        "print(\"0, 30, 45, 60, 90\")\n",
        "derajat = int(input(\"Masukkan derajat: \"))\n",
        "\n",
        "if fungsi == \"sin\":\n",
        "    if derajat == 0:\n",
        "        print(\"Hasil sin(0 derajat) = 0\")\n",
        "    elif derajat == 30:\n",
        "        print(\"Hasil sin(30 derajat) = 0.5\")\n",
        "    elif derajat == 45:\n",
        "        print(\"Hasil sin(45 derajat) = 0.707\")\n",
        "    elif derajat == 60:\n",
        "        print(\"Hasil sin(60 derajat) = 0.866\")\n",
        "    elif derajat == 90:\n",
        "        print(\"Hasil sin(90 derajat) = 1\")\n",
        "    else:\n",
        "        print(\"Derajat tidak valid.\")\n",
        "\n",
        "elif fungsi == \"cos\":\n",
        "    if derajat == 0:\n",
        "        print(\"Hasil cos(0 derajat) = 1\")\n",
        "    elif derajat == 30:\n",
        "        print(\"Hasil cos(30 derajat) = 0.866\")\n",
        "    elif derajat == 45:\n",
        "        print(\"Hasil cos(45 derajat) = 0.707\")\n",
        "    elif derajat == 60:\n",
        "        print(\"Hasil cos(60 derajat) = 0.5\")\n",
        "    elif derajat == 90:\n",
        "        print(\"Hasil cos(90 derajat) = 0\")\n",
        "    else:\n",
        "        print(\"Derajat tidak valid.\")\n",
        "\n",
        "elif fungsi == \"tan\":\n",
        "    if derajat == 0:\n",
        "        print(\"Hasil tan(0 derajat) = 0\")\n",
        "    elif derajat == 30:\n",
        "        print(\"Hasil tan(30 derajat) = 0.577\")\n",
        "    elif derajat == 45:\n",
        "        print(\"Hasil tan(45 derajat) = 1\")\n",
        "    elif derajat == 60:\n",
        "        print(\"Hasil tan(60 derajat) = 1.732\")\n",
        "    elif derajat == 90:\n",
        "        print(\"Hasil tan(90 derajat) = tidak terdefinisi\")\n",
        "    else:\n",
        "        print(\"Derajat tidak valid.\")\n",
        "\n",
        "else:\n",
        "    print(\"Fungsi tidak valid.\")"
      ],
      "metadata": {
        "colab": {
          "base_uri": "https://localhost:8080/"
        },
        "id": "X3NAZL67MCZN",
        "outputId": "19bd48db-f432-43f6-9205-f7a5f199280a"
      },
      "execution_count": null,
      "outputs": [
        {
          "output_type": "stream",
          "name": "stdout",
          "text": [
            "Pilih fungsi trigonometri:\n",
            "1. sin\n",
            "2. cos\n",
            "3. tan\n",
            "Masukkan pilihan (sin/cos/tan): cos\n",
            "\n",
            "Pilih derajat:\n",
            "0, 30, 45, 60, 90\n",
            "Masukkan derajat: 90\n",
            "Hasil cos(90 derajat) = 0\n"
          ]
        }
      ]
    },
    {
      "cell_type": "code",
      "source": [
        "# Input\n",
        "bulan = int(input(\"Masukkan angka: \"))\n",
        "\n",
        "# Logika\n",
        "if bulan == 1:\n",
        "    print(\"Januari\")\n",
        "elif bulan == 2:\n",
        "    print(\"Februari\")\n",
        "elif bulan == 3:\n",
        "    print(\"Maret\")\n",
        "elif bulan == 4:\n",
        "    print(\"April\")\n",
        "elif bulan == 5:\n",
        "    print(\"Mei\")\n",
        "elif bulan == 6:\n",
        "    print(\"Juni\")\n",
        "elif bulan == 7:\n",
        "    print(\"Juli\")\n",
        "elif bulan == 8:\n",
        "    print(\"Agustus\")\n",
        "elif bulan == 9:\n",
        "    print(\"September\")\n",
        "elif bulan == 10:\n",
        "    print(\"Oktober\")\n",
        "elif bulan == 11:\n",
        "    print(\"November\")\n",
        "elif bulan == 12:\n",
        "    print(\"Desember\")\n",
        "else:\n",
        "    print(\"Input salah\")"
      ],
      "metadata": {
        "colab": {
          "base_uri": "https://localhost:8080/"
        },
        "id": "QsNLnDTIPAcw",
        "outputId": "6892f663-fc72-4e8a-9441-d76268529f86"
      },
      "execution_count": null,
      "outputs": [
        {
          "output_type": "stream",
          "name": "stdout",
          "text": [
            "Masukkan angka: 9\n",
            "September\n"
          ]
        }
      ]
    },
    {
      "cell_type": "code",
      "source": [
        "# Input\n",
        "jam = str(input(\"Masukkan jam: \"))\n",
        "\n",
        "# Logika\n",
        "if jam >= \"00:00\" and jam <= \"11:59\":\n",
        "    print(\"Selamat pagi\")\n",
        "if jam >= \"12:00\" and jam <= \"15:59\":\n",
        "    print(\"Selamat siang\")\n",
        "if jam >= \"16:00\" and jam <= \"18:59\":\n",
        "    print(\"Selamat sore\")\n",
        "if jam >= \"19:00\" and jam <= \"23:59\":\n",
        "    print(\"Selamat malam\")"
      ],
      "metadata": {
        "colab": {
          "base_uri": "https://localhost:8080/"
        },
        "id": "LmLB1Q6WPhpB",
        "outputId": "2168a726-998e-476d-b7d1-6601db48df5b"
      },
      "execution_count": null,
      "outputs": [
        {
          "output_type": "stream",
          "name": "stdout",
          "text": [
            "Masukkan jam: 20 25\n",
            "Selamat malam\n"
          ]
        }
      ]
    },
    {
      "cell_type": "code",
      "source": [
        "print(\"=\"*30)\n",
        "print(\"SELAMAT DATANG DI KAFE GEMINI\")\n",
        "print(\"=\"*30)\n",
        "print(\"Menu Makanan & Minuman:\")\n",
        "print(\"1. Kopi Hitam = Rp 3000\")\n",
        "print(\"2. Teh Manis = Rp 4000\")\n",
        "print(\"3. Roti Bakar = Rp 5000\")\n",
        "print(\"4. Es Jeruk = Rp 6000\")\n",
        "print(\"=\"*30)\n",
        "\n",
        "pilihan_str = input(\"Silakan masukkan nomor pilihan Anda (1-4): \")\n",
        "pilihan = int(pilihan_str)\n",
        "nama_pesanan = \"\"\n",
        "harga = 0\n",
        "\n",
        "if pilihan == 1:\n",
        "    nama_pesanan = \"Kopi Hitam\"\n",
        "    harga = 3000\n",
        "    print(\"Anda memesan:\", nama_pesanan, \"dengan harga Rp\", harga)\n",
        "elif pilihan == 2:\n",
        "    nama_pesanan = \"Teh Manis\"\n",
        "    harga = 4000\n",
        "    print(\"Anda memesan:\", nama_pesanan, \"dengan harga Rp\", harga)\n",
        "elif pilihan == 3:\n",
        "    nama_pesanan = \"Roti Bakar\"\n",
        "    harga = 5000\n",
        "    print(\"Anda memesan:\", nama_pesanan, \"dengan harga Rp\", harga)\n",
        "elif pilihan == 4:\n",
        "    nama_pesanan = \"Es Jeruk\"\n",
        "    harga = 6000\n",
        "    print(\"Anda memesan:\", nama_pesanan, \"dengan harga Rp\", harga)\n",
        "else:\n",
        "    print(\"Maaf, pilihan menu tidak valid. Silakan jalankan ulang program.\")\n",
        "    exit()\n",
        "\n",
        "jumlah_str = input(\"Masukkan jumlah pesanan untuk \" + nama_pesanan + \": \")\n",
        "jumlah = int(jumlah_str)\n",
        "total_harga = harga * jumlah\n",
        "\n",
        "# Logika diskon berdasarkan total belanja\n",
        "if total_harga >= 100000:\n",
        "    persentase_diskon = 0.7\n",
        "elif total_harga >= 50000:\n",
        "    persentase_diskon = 0.5\n",
        "elif total_harga >= 25000:\n",
        "    persentase_diskon = 0.3\n",
        "else:\n",
        "    persentase_diskon = 0\n",
        "\n",
        "# Hitung diskon dan total akhir\n",
        "diskon = total_harga * persentase_diskon\n",
        "total_harga -= diskon\n",
        "\n",
        "# Tampilkan hasil\n",
        "if persentase_diskon > 0:\n",
        "    print(f\"Selamat! Anda mendapatkan diskon sebesar {int(persentase_diskon * 100)}% yaitu Rp {diskon:,.0f}\")\n",
        "    print(\"Total harga setelah diskon adalah Rp\", total_harga)\n",
        "else:\n",
        "    print(\"Maaf, Anda belum mendapatkan diskon.\")\n",
        "\n",
        "uang_dibayar_str = input(\"Masukkan jumlah uang yang Anda bayar: Rp \")\n",
        "uang_dibayar = int(uang_dibayar_str)\n",
        "\n",
        "if uang_dibayar >= total_harga:\n",
        "    kembalian = uang_dibayar - total_harga\n",
        "    print(\"=== Struk Pembayaran ===\")\n",
        "    print(\"Pesanan:\", nama_pesanan)\n",
        "    print(\"Jumlah:\", jumlah)\n",
        "    print(\"Total Pembayaran: Rp\", total_harga)\n",
        "    print(\"Uang Dibayar: Rp\", uang_dibayar)\n",
        "    print(\"Kembalian: Rp\", kembalian)\n",
        "    print(\"Terima kasih telah berbelanja!\")\n",
        "else:\n",
        "    kekurangan = total_harga - uang_dibayar\n",
        "    print(\"Maaf, uang Anda kurang sebesar Rp\", kekurangan)\n",
        "\n",
        "print(\"=\"*30)"
      ],
      "metadata": {
        "colab": {
          "base_uri": "https://localhost:8080/"
        },
        "id": "Zv6aUrGvRILE",
        "outputId": "d58d947b-dbb3-4cd0-d465-e8ec46044248"
      },
      "execution_count": null,
      "outputs": [
        {
          "output_type": "stream",
          "name": "stdout",
          "text": [
            "==============================\n",
            "SELAMAT DATANG DI KAFE GEMINI\n",
            "==============================\n",
            "Menu Makanan & Minuman:\n",
            "1. Kopi Hitam = Rp 3000\n",
            "2. Teh Manis = Rp 4000\n",
            "3. Roti Bakar = Rp 5000\n",
            "4. Es Jeruk = Rp 6000\n",
            "==============================\n",
            "Silakan masukkan nomor pilihan Anda (1-4): 3\n",
            "Anda memesan: Roti Bakar dengan harga Rp 5000\n",
            "Masukkan jumlah pesanan untuk Roti Bakar: 10\n",
            "Selamat! Anda mendapatkan diskon sebesar 50% yaitu Rp 25,000\n",
            "Total harga setelah diskon adalah Rp 25000.0\n",
            "Masukkan jumlah uang yang Anda bayar: Rp 25000\n",
            "=== Struk Pembayaran ===\n",
            "Pesanan: Roti Bakar\n",
            "Jumlah: 10\n",
            "Total Pembayaran: Rp 25000.0\n",
            "Uang Dibayar: Rp 25000\n",
            "Kembalian: Rp 0.0\n",
            "Terima kasih telah berbelanja!\n",
            "==============================\n"
          ]
        }
      ]
    }
  ]
}