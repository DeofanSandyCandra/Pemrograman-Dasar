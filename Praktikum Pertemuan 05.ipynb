{
  "nbformat": 4,
  "nbformat_minor": 0,
  "metadata": {
    "colab": {
      "provenance": [],
      "authorship_tag": "ABX9TyPP7ErzGnC5G4X+sPviGhWy",
      "include_colab_link": true
    },
    "kernelspec": {
      "name": "python3",
      "display_name": "Python 3"
    },
    "language_info": {
      "name": "python"
    }
  },
  "cells": [
    {
      "cell_type": "markdown",
      "metadata": {
        "id": "view-in-github",
        "colab_type": "text"
      },
      "source": [
        "<a href=\"https://colab.research.google.com/github/DeofanSandyCandra/Pemrograman-Dasar/blob/main/Praktikum%20Pertemuan%2005.ipynb\" target=\"_parent\"><img src=\"https://colab.research.google.com/assets/colab-badge.svg\" alt=\"Open In Colab\"/></a>"
      ]
    },
    {
      "cell_type": "code",
      "execution_count": null,
      "metadata": {
        "colab": {
          "base_uri": "https://localhost:8080/"
        },
        "id": "vCQpnJ6s66Eb",
        "outputId": "ace6f125-c12e-4784-cd3c-a365b954fb26"
      },
      "outputs": [
        {
          "output_type": "stream",
          "name": "stdout",
          "text": [
            "--- Soal 1 ---\n",
            "1\n",
            "3\n",
            "5\n",
            "7\n",
            "9\n"
          ]
        }
      ],
      "source": [
        "print(\"--- Soal 1 ---\")\n",
        "# Mencetak bilangan ganjil 1 hingga 9\n",
        "for angka in range(1,10,2):\n",
        "    print(angka)"
      ]
    },
    {
      "cell_type": "code",
      "source": [
        "print(\"--- Soal 1 ---\")\n",
        "# Mencetak bilangan ganjil 1 hingga 9\n",
        "for angka in range(2,51,2):\n",
        "    print(angka)"
      ],
      "metadata": {
        "colab": {
          "base_uri": "https://localhost:8080/"
        },
        "id": "NJKXZkNH9J0v",
        "outputId": "57506e13-2e70-4455-81cc-4e44e03ff80d"
      },
      "execution_count": null,
      "outputs": [
        {
          "output_type": "stream",
          "name": "stdout",
          "text": [
            "--- Soal 1 ---\n",
            "2\n",
            "4\n",
            "6\n",
            "8\n",
            "10\n",
            "12\n",
            "14\n",
            "16\n",
            "18\n",
            "20\n",
            "22\n",
            "24\n",
            "26\n",
            "28\n",
            "30\n",
            "32\n",
            "34\n",
            "36\n",
            "38\n",
            "40\n",
            "42\n",
            "44\n",
            "46\n",
            "48\n",
            "50\n"
          ]
        }
      ]
    },
    {
      "cell_type": "code",
      "source": [
        "print(\"--- Soal 2 ---\")\n",
        "kode_berhenti = 99\n",
        "input_pengguna = 0 # Inisialisasi awal\n",
        "\n",
        "while input_pengguna != kode_berhenti:\n",
        "    try:\n",
        "        input_pengguna = int(input(\"Masukkan angka (99 untuk berhenti): \"))\n",
        "    except ValueError:\n",
        "        print(\"Input tidak valid. Harap masukkan angka.\")\n",
        "\n",
        "print(\"Perulangan telah dihentikan oleh sentinel (99).\")\n"
      ],
      "metadata": {
        "id": "bpoYPH5e_jTx",
        "colab": {
          "base_uri": "https://localhost:8080/"
        },
        "outputId": "80f3addf-81f9-40b4-dc95-d992157c5285"
      },
      "execution_count": 1,
      "outputs": [
        {
          "output_type": "stream",
          "name": "stdout",
          "text": [
            "--- Soal 2 ---\n",
            "Masukkan angka (99 untuk berhenti): 55\n",
            "Masukkan angka (99 untuk berhenti): 99\n",
            "Perulangan telah dihentikan oleh sentinel (99).\n"
          ]
        }
      ]
    },
    {
      "cell_type": "code",
      "source": [
        "print(\"--- Soal 2 ---\")\n",
        "kode_berhenti = 4232401003\n",
        "input_pengguna = 0 # Inisialisasi awal\n",
        "\n",
        "while input_pengguna != kode_berhenti:\n",
        "    try:\n",
        "        input_pengguna = int(input(\"Masukkan angka (NIM anda untuk berhenti): \"))\n",
        "    except ValueError:\n",
        "        print(\"Input tidak valid. Harap masukkan angka.\")\n",
        "\n",
        "print(\"Perulangan telah dihentikan oleh sentinel (NIM).\")"
      ],
      "metadata": {
        "colab": {
          "base_uri": "https://localhost:8080/"
        },
        "id": "jazS8XxIIdfa",
        "outputId": "514e52ae-df4f-4d0e-860a-16cc642d7ce3"
      },
      "execution_count": 5,
      "outputs": [
        {
          "output_type": "stream",
          "name": "stdout",
          "text": [
            "--- Soal 2 ---\n",
            "Masukkan angka (NIM anda untuk berhenti): 4232401005\n",
            "Masukkan angka (NIM anda untuk berhenti): 423240189\n",
            "Masukkan angka (NIM anda untuk berhenti): 4232401003\n",
            "Perulangan telah dihentikan oleh sentinel (NIM).\n"
          ]
        }
      ]
    },
    {
      "cell_type": "code",
      "source": [
        "print(\"--- Soal 3 ---\")\n",
        "harga_barang = [15000, 25000, 10000, 5000]\n",
        "total_belanja = 0\n",
        "\n",
        "for harga in harga_barang:\n",
        "    total_belanja += harga\n",
        "\n",
        "print(\"Total biaya belanja adalah:\", total_belanja)\n"
      ],
      "metadata": {
        "colab": {
          "base_uri": "https://localhost:8080/"
        },
        "id": "G_ATpsAcML1g",
        "outputId": "642a7620-31d7-4dce-cd6f-433669de4397"
      },
      "execution_count": 7,
      "outputs": [
        {
          "output_type": "stream",
          "name": "stdout",
          "text": [
            "--- Soal 3 ---\n",
            "Total biaya belanja adalah: 55000\n"
          ]
        }
      ]
    },
    {
      "cell_type": "code",
      "source": [
        "print(\"--- Soal 3 ---\")\n",
        "harga_barang = [15000, 25000, 10000, 5000]\n",
        "total_belanja = 0\n",
        "\n",
        "for harga in harga_barang:\n",
        "    total_belanja += harga\n",
        "\n",
        "print(\"Total biaya belanja adalah:\", total_belanja)"
      ],
      "metadata": {
        "colab": {
          "base_uri": "https://localhost:8080/"
        },
        "id": "ZjAQUtfqMb_a",
        "outputId": "43b89c93-699c-459f-9b0a-9b539bd39594"
      },
      "execution_count": 9,
      "outputs": [
        {
          "output_type": "stream",
          "name": "stdout",
          "text": [
            "--- Soal 3 ---\n",
            "Total biaya belanja adalah: 55000\n"
          ]
        }
      ]
    },
    {
      "cell_type": "code",
      "source": [
        "print(\"--- Soal 3 ---\")\n",
        "harga_barang = [0, 0, 0, 0, 0, 0, 0, 0, 0, 0]\n",
        "total_belanja = 0\n",
        "\n",
        "print(\"Masukkan harga untuk 10 barang:\")\n",
        "\n",
        "for i in range(10):\n",
        "    harga = int(input(\"Harga barang ke-\" + str(i+1) + \": \"))\n",
        "    harga_barang[i] = harga\n",
        "    total_belanja += harga\n",
        "\n",
        "\n",
        "print(\"\\nTotal biaya belanja adalah: Rp\", total_belanja)"
      ],
      "metadata": {
        "colab": {
          "base_uri": "https://localhost:8080/"
        },
        "id": "ezzCkw08NVeU",
        "outputId": "81b0cc11-3dce-43ba-9e65-909a40efaa8e"
      },
      "execution_count": 10,
      "outputs": [
        {
          "output_type": "stream",
          "name": "stdout",
          "text": [
            "--- Soal 3 ---\n",
            "Masukkan harga untuk 10 barang:\n",
            "Harga barang ke-1: 5000\n",
            "Harga barang ke-2: 2500\n",
            "Harga barang ke-3: 9000\n",
            "Harga barang ke-4: 6000\n",
            "Harga barang ke-5: 4000\n",
            "Harga barang ke-6: 35000\n",
            "Harga barang ke-7: 25000\n",
            "Harga barang ke-8: 4000\n",
            "Harga barang ke-9: 9000\n",
            "Harga barang ke-10: 7000\n",
            "\n",
            "Total biaya belanja adalah: Rp 106500\n"
          ]
        }
      ]
    },
    {
      "cell_type": "code",
      "source": [
        "print(\"--- Soal 4 ---\")\n",
        "percobaan_maksimal = 3\n",
        "percobaan_saat_ini = 1\n",
        "\n",
        "while percobaan_saat_ini <= percobaan_maksimal:\n",
        "    print(f\"Percobaan ke-{percobaan_saat_ini}...\")\n",
        "    # Asumsi ada logika input password di sini\n",
        "    percobaan_saat_ini += 1\n",
        "\n",
        "if percobaan_saat_ini == percobaan_maksimal + 1:\n",
        "    print(\"Kesempatan habis.\")\n",
        "else:\n",
        "    print(\"Akses diterima.\")"
      ],
      "metadata": {
        "colab": {
          "base_uri": "https://localhost:8080/"
        },
        "id": "3VVJ67FRYZGg",
        "outputId": "0a9f9539-dff2-42c8-d7a8-720a437fb0c7"
      },
      "execution_count": 12,
      "outputs": [
        {
          "output_type": "stream",
          "name": "stdout",
          "text": [
            "--- Soal 4 ---\n",
            "Percobaan ke-1...\n",
            "Percobaan ke-2...\n",
            "Percobaan ke-3...\n",
            "Kesempatan habis.\n"
          ]
        }
      ]
    },
    {
      "cell_type": "code",
      "source": [
        "print(\"--- Soal 4 ---\")\n",
        "username_benar = \"admin\"\n",
        "password_benar = \"12345\"\n",
        "\n",
        "percobaan_maksimal = 3\n",
        "percobaan_saat_ini = 1\n",
        "akses_diterima = False\n",
        "\n",
        "while percobaan_saat_ini <= percobaan_maksimal:\n",
        "    print(f\"Percobaan ke-{percobaan_saat_ini}...\")\n",
        "\n",
        "    username_input = input(\"Masukkan username: \")\n",
        "    password_input = input(\"Masukkan password: \")\n",
        "\n",
        "    if username_input == username_benar and password_input == password_benar:\n",
        "        akses_diterima = True\n",
        "        break\n",
        "\n",
        "    percobaan_saat_ini += 1\n",
        "\n",
        "if akses_diterima:\n",
        "    print(\"Akses diterima.\")\n",
        "else:\n",
        "    print(\"Kesempatan habis.\")"
      ],
      "metadata": {
        "colab": {
          "base_uri": "https://localhost:8080/"
        },
        "id": "hi00nAXAa7QN",
        "outputId": "484fbbe8-1159-40fd-d24f-4c0e2deff514"
      },
      "execution_count": 13,
      "outputs": [
        {
          "output_type": "stream",
          "name": "stdout",
          "text": [
            "--- Soal 4 ---\n",
            "Percobaan ke-1...\n",
            "Masukkan username: aadmin\n",
            "Masukkan password: 455\n",
            "Percobaan ke-2...\n",
            "Masukkan username: admin\n",
            "Masukkan password: 777\n",
            "Percobaan ke-3...\n",
            "Masukkan username: admimin\n",
            "Masukkan password: 12345\n",
            "Kesempatan habis.\n"
          ]
        }
      ]
    },
    {
      "cell_type": "code",
      "source": [
        "print(\"--- Soal 5 ---\")\n",
        "nama_proyek = \"PRAKTIKUM\"\n",
        "hasil_output = \"\"\n",
        "\n",
        "for karakter in nama_proyek:\n",
        "    hasil_output += karakter + \"-\"\n",
        "\n",
        "print(hasil_output) # Output: P-R-A-K-T-I-K-U-M-"
      ],
      "metadata": {
        "colab": {
          "base_uri": "https://localhost:8080/"
        },
        "id": "AenETLW4dXMt",
        "outputId": "d8dc7fa2-3836-4753-86e8-2a582e17ef54"
      },
      "execution_count": 14,
      "outputs": [
        {
          "output_type": "stream",
          "name": "stdout",
          "text": [
            "--- Soal 5 ---\n",
            "P-R-A-K-T-I-K-U-M-\n"
          ]
        }
      ]
    },
    {
      "cell_type": "code",
      "source": [
        "print(\"--- Soal 5 ---\")\n",
        "nama_proyek = \"Politeknik Negeri Batam\"\n",
        "hasil_output = \"\"\n",
        "\n",
        "for karakter in nama_proyek:\n",
        "    hasil_output += karakter + \"-\"\n",
        "\n",
        "print(hasil_output) # Output: P-R-A-K-T-I-K-U-M-"
      ],
      "metadata": {
        "colab": {
          "base_uri": "https://localhost:8080/"
        },
        "id": "wRAg1kiLdc1P",
        "outputId": "319ef621-46cd-4d3d-c737-8400948af250"
      },
      "execution_count": 15,
      "outputs": [
        {
          "output_type": "stream",
          "name": "stdout",
          "text": [
            "--- Soal 5 ---\n",
            "P-o-l-i-t-e-k-n-i-k- -N-e-g-e-r-i- -B-a-t-a-m-\n"
          ]
        }
      ]
    },
    {
      "cell_type": "code",
      "source": [
        "print(\"--- Soal 6 ---\")\n",
        "# Countdown dari 5 ke 1\n",
        "for i in range(5,0,-1,):\n",
        "    print(i)"
      ],
      "metadata": {
        "colab": {
          "base_uri": "https://localhost:8080/"
        },
        "id": "4yz0P91tgRPz",
        "outputId": "69735a76-ae91-41eb-d5d3-e490f4dadc59"
      },
      "execution_count": 22,
      "outputs": [
        {
          "output_type": "stream",
          "name": "stdout",
          "text": [
            "--- Soal 6 ---\n",
            "5\n",
            "4\n",
            "3\n",
            "2\n",
            "1\n"
          ]
        }
      ]
    },
    {
      "cell_type": "code",
      "source": [
        "print(\"--- Soal 6 ---\")\n",
        "# Countdown dari 5 ke 1\n",
        "for i in range(255,0,-1,):\n",
        "  print(i)"
      ],
      "metadata": {
        "colab": {
          "base_uri": "https://localhost:8080/"
        },
        "id": "coS3M8zchXSk",
        "outputId": "4d983f3e-f76c-4ae6-8708-2c3fc2d05a7c"
      },
      "execution_count": 24,
      "outputs": [
        {
          "output_type": "stream",
          "name": "stdout",
          "text": [
            "--- Soal 6 ---\n",
            "255\n",
            "254\n",
            "253\n",
            "252\n",
            "251\n",
            "250\n",
            "249\n",
            "248\n",
            "247\n",
            "246\n",
            "245\n",
            "244\n",
            "243\n",
            "242\n",
            "241\n",
            "240\n",
            "239\n",
            "238\n",
            "237\n",
            "236\n",
            "235\n",
            "234\n",
            "233\n",
            "232\n",
            "231\n",
            "230\n",
            "229\n",
            "228\n",
            "227\n",
            "226\n",
            "225\n",
            "224\n",
            "223\n",
            "222\n",
            "221\n",
            "220\n",
            "219\n",
            "218\n",
            "217\n",
            "216\n",
            "215\n",
            "214\n",
            "213\n",
            "212\n",
            "211\n",
            "210\n",
            "209\n",
            "208\n",
            "207\n",
            "206\n",
            "205\n",
            "204\n",
            "203\n",
            "202\n",
            "201\n",
            "200\n",
            "199\n",
            "198\n",
            "197\n",
            "196\n",
            "195\n",
            "194\n",
            "193\n",
            "192\n",
            "191\n",
            "190\n",
            "189\n",
            "188\n",
            "187\n",
            "186\n",
            "185\n",
            "184\n",
            "183\n",
            "182\n",
            "181\n",
            "180\n",
            "179\n",
            "178\n",
            "177\n",
            "176\n",
            "175\n",
            "174\n",
            "173\n",
            "172\n",
            "171\n",
            "170\n",
            "169\n",
            "168\n",
            "167\n",
            "166\n",
            "165\n",
            "164\n",
            "163\n",
            "162\n",
            "161\n",
            "160\n",
            "159\n",
            "158\n",
            "157\n",
            "156\n",
            "155\n",
            "154\n",
            "153\n",
            "152\n",
            "151\n",
            "150\n",
            "149\n",
            "148\n",
            "147\n",
            "146\n",
            "145\n",
            "144\n",
            "143\n",
            "142\n",
            "141\n",
            "140\n",
            "139\n",
            "138\n",
            "137\n",
            "136\n",
            "135\n",
            "134\n",
            "133\n",
            "132\n",
            "131\n",
            "130\n",
            "129\n",
            "128\n",
            "127\n",
            "126\n",
            "125\n",
            "124\n",
            "123\n",
            "122\n",
            "121\n",
            "120\n",
            "119\n",
            "118\n",
            "117\n",
            "116\n",
            "115\n",
            "114\n",
            "113\n",
            "112\n",
            "111\n",
            "110\n",
            "109\n",
            "108\n",
            "107\n",
            "106\n",
            "105\n",
            "104\n",
            "103\n",
            "102\n",
            "101\n",
            "100\n",
            "99\n",
            "98\n",
            "97\n",
            "96\n",
            "95\n",
            "94\n",
            "93\n",
            "92\n",
            "91\n",
            "90\n",
            "89\n",
            "88\n",
            "87\n",
            "86\n",
            "85\n",
            "84\n",
            "83\n",
            "82\n",
            "81\n",
            "80\n",
            "79\n",
            "78\n",
            "77\n",
            "76\n",
            "75\n",
            "74\n",
            "73\n",
            "72\n",
            "71\n",
            "70\n",
            "69\n",
            "68\n",
            "67\n",
            "66\n",
            "65\n",
            "64\n",
            "63\n",
            "62\n",
            "61\n",
            "60\n",
            "59\n",
            "58\n",
            "57\n",
            "56\n",
            "55\n",
            "54\n",
            "53\n",
            "52\n",
            "51\n",
            "50\n",
            "49\n",
            "48\n",
            "47\n",
            "46\n",
            "45\n",
            "44\n",
            "43\n",
            "42\n",
            "41\n",
            "40\n",
            "39\n",
            "38\n",
            "37\n",
            "36\n",
            "35\n",
            "34\n",
            "33\n",
            "32\n",
            "31\n",
            "30\n",
            "29\n",
            "28\n",
            "27\n",
            "26\n",
            "25\n",
            "24\n",
            "23\n",
            "22\n",
            "21\n",
            "20\n",
            "19\n",
            "18\n",
            "17\n",
            "16\n",
            "15\n",
            "14\n",
            "13\n",
            "12\n",
            "11\n",
            "10\n",
            "9\n",
            "8\n",
            "7\n",
            "6\n",
            "5\n",
            "4\n",
            "3\n",
            "2\n",
            "1\n"
          ]
        }
      ]
    },
    {
      "cell_type": "code",
      "source": [
        "print(\"--- Soal 7 ---\")\n",
        "bulan = [\"Januari\", \"Februari\", \"Maret\", \"April\"]\n",
        "\n",
        "for i, nama in enumerate(bulan):\n",
        "    # i adalah indeks, nama adalah elemen\n",
        "    print(f\"Bulan ke-{i + 1}: {nama}\")"
      ],
      "metadata": {
        "colab": {
          "base_uri": "https://localhost:8080/"
        },
        "id": "jXx8xbHkjK5t",
        "outputId": "45494f94-765e-4fa5-8e8a-03bd7e213df9"
      },
      "execution_count": 25,
      "outputs": [
        {
          "output_type": "stream",
          "name": "stdout",
          "text": [
            "--- Soal 7 ---\n",
            "Bulan ke-1: Januari\n",
            "Bulan ke-2: Februari\n",
            "Bulan ke-3: Maret\n",
            "Bulan ke-4: April\n"
          ]
        }
      ]
    },
    {
      "cell_type": "code",
      "source": [
        "print(\"--- Soal 7 ---\")\n",
        "kelurahan_batam = [\n",
        "    \"Baloi Permai\", \"Belian\", \"Sukajadi\", \"Sungai Panas\", \"Taman Baloi\", \"Teluk Tering\",\n",
        "    \"Bukit Tempayan\", \"Buliang\", \"Kibing\", \"Tanjung Uncang\",\n",
        "    \"Batu Merah\", \"Kampung Seraya\", \"Sungai Jodoh\", \"Tanjung Sengkuang\",\n",
        "    \"Kasu\", \"Pecong\", \"Pemping\", \"Pulau Terong\", \"Sekanak\", \"Raya\", \"Tanjung Sari\",\n",
        "    \"Bengkong Indah\", \"Bengkong Laut\", \"Sadai\", \"Tanjung Buntung\",\n",
        "    \"Batu Legong\", \"Bulang\", \"Lintang\", \"Pantai Gelam\", \"Pulau Buluh\", \"Setokok\", \"Temoyong\",\n",
        "    \"Air Raja\", \"Galang Baru\", \"Karas\", \"Pulau Abang\", \"Rempang Cate\", \"Sembulang\", \"Sijantung\", \"Subang Mas\",\n",
        "    \"Baloi Indah\", \"Batu Selicin\", \"Kampung Pelita\", \"Lubuk Baja Kota\", \"Tanjung Uma\",\n",
        "    \"Batu Besar\", \"Kabil\", \"Ngenang\", \"Sambau\",\n",
        "    \"Sagulung Kota\", \"Sungai Binti\", \"Sungai Langkai\", \"Sungai Lekop\", \"Sungai Pelunggut\", \"Tembesi\",\n",
        "    \"Duriangkang\", \"Mangsang\", \"Muka Kuning\", \"Tanjung Piayu\",\n",
        "    \"Patam Lestari\", \"Sungai Harapan\", \"Tanjung Pinggir\", \"Tanjung Riau\", \"Tiban Baru\", \"Tiban Indah\", \"Tiban Lama\"\n",
        "]\n",
        "\n",
        "for i, nama in enumerate(kelurahan_batam):\n",
        "    print(f\"Kelurahan ke-{i + 1}: {nama}\")"
      ],
      "metadata": {
        "colab": {
          "base_uri": "https://localhost:8080/"
        },
        "id": "oyzot1OhnlMv",
        "outputId": "30ada60e-464c-44c1-ae8b-f1bb75b4bf32"
      },
      "execution_count": 26,
      "outputs": [
        {
          "output_type": "stream",
          "name": "stdout",
          "text": [
            "--- Soal 7 ---\n",
            "Kelurahan ke-1: Baloi Permai\n",
            "Kelurahan ke-2: Belian\n",
            "Kelurahan ke-3: Sukajadi\n",
            "Kelurahan ke-4: Sungai Panas\n",
            "Kelurahan ke-5: Taman Baloi\n",
            "Kelurahan ke-6: Teluk Tering\n",
            "Kelurahan ke-7: Bukit Tempayan\n",
            "Kelurahan ke-8: Buliang\n",
            "Kelurahan ke-9: Kibing\n",
            "Kelurahan ke-10: Tanjung Uncang\n",
            "Kelurahan ke-11: Batu Merah\n",
            "Kelurahan ke-12: Kampung Seraya\n",
            "Kelurahan ke-13: Sungai Jodoh\n",
            "Kelurahan ke-14: Tanjung Sengkuang\n",
            "Kelurahan ke-15: Kasu\n",
            "Kelurahan ke-16: Pecong\n",
            "Kelurahan ke-17: Pemping\n",
            "Kelurahan ke-18: Pulau Terong\n",
            "Kelurahan ke-19: Sekanak\n",
            "Kelurahan ke-20: Raya\n",
            "Kelurahan ke-21: Tanjung Sari\n",
            "Kelurahan ke-22: Bengkong Indah\n",
            "Kelurahan ke-23: Bengkong Laut\n",
            "Kelurahan ke-24: Sadai\n",
            "Kelurahan ke-25: Tanjung Buntung\n",
            "Kelurahan ke-26: Batu Legong\n",
            "Kelurahan ke-27: Bulang\n",
            "Kelurahan ke-28: Lintang\n",
            "Kelurahan ke-29: Pantai Gelam\n",
            "Kelurahan ke-30: Pulau Buluh\n",
            "Kelurahan ke-31: Setokok\n",
            "Kelurahan ke-32: Temoyong\n",
            "Kelurahan ke-33: Air Raja\n",
            "Kelurahan ke-34: Galang Baru\n",
            "Kelurahan ke-35: Karas\n",
            "Kelurahan ke-36: Pulau Abang\n",
            "Kelurahan ke-37: Rempang Cate\n",
            "Kelurahan ke-38: Sembulang\n",
            "Kelurahan ke-39: Sijantung\n",
            "Kelurahan ke-40: Subang Mas\n",
            "Kelurahan ke-41: Baloi Indah\n",
            "Kelurahan ke-42: Batu Selicin\n",
            "Kelurahan ke-43: Kampung Pelita\n",
            "Kelurahan ke-44: Lubuk Baja Kota\n",
            "Kelurahan ke-45: Tanjung Uma\n",
            "Kelurahan ke-46: Batu Besar\n",
            "Kelurahan ke-47: Kabil\n",
            "Kelurahan ke-48: Ngenang\n",
            "Kelurahan ke-49: Sambau\n",
            "Kelurahan ke-50: Sagulung Kota\n",
            "Kelurahan ke-51: Sungai Binti\n",
            "Kelurahan ke-52: Sungai Langkai\n",
            "Kelurahan ke-53: Sungai Lekop\n",
            "Kelurahan ke-54: Sungai Pelunggut\n",
            "Kelurahan ke-55: Tembesi\n",
            "Kelurahan ke-56: Duriangkang\n",
            "Kelurahan ke-57: Mangsang\n",
            "Kelurahan ke-58: Muka Kuning\n",
            "Kelurahan ke-59: Tanjung Piayu\n",
            "Kelurahan ke-60: Patam Lestari\n",
            "Kelurahan ke-61: Sungai Harapan\n",
            "Kelurahan ke-62: Tanjung Pinggir\n",
            "Kelurahan ke-63: Tanjung Riau\n",
            "Kelurahan ke-64: Tiban Baru\n",
            "Kelurahan ke-65: Tiban Indah\n",
            "Kelurahan ke-66: Tiban Lama\n"
          ]
        }
      ]
    },
    {
      "cell_type": "code",
      "source": [
        "print(\"--- Soal 8 ---\")\n",
        "data_angka = [10, 20, 30, -1, 50, 60]\n",
        "\n",
        "for angka in data_angka:\n",
        "    if angka == -1:\n",
        "        break\n",
        "    print(angka)\n",
        "\n",
        "print(\"Program berhenti karena angka -1 ditemukan.\")"
      ],
      "metadata": {
        "colab": {
          "base_uri": "https://localhost:8080/"
        },
        "id": "RqRaj9TDqr06",
        "outputId": "af7bc406-84ae-419e-faf1-9281642d465d"
      },
      "execution_count": 27,
      "outputs": [
        {
          "output_type": "stream",
          "name": "stdout",
          "text": [
            "--- Soal 8 ---\n",
            "10\n",
            "20\n",
            "30\n",
            "Program berhenti karena angka -1 ditemukan.\n"
          ]
        }
      ]
    },
    {
      "cell_type": "code",
      "source": [
        "print(\"--- Soal 8 ---\")\n",
        "data_angka = [10, 20, 30, -1, 50, 0, 60]\n",
        "\n",
        "for angka in data_angka:\n",
        "    if angka == 0:\n",
        "        break\n",
        "    print(angka)\n",
        "\n",
        "print(\"Program berhenti karena angka 0 ditemukan.\")"
      ],
      "metadata": {
        "colab": {
          "base_uri": "https://localhost:8080/"
        },
        "id": "TUwcsWVfq2Tg",
        "outputId": "ba3dca6e-943f-4021-e91d-c2d0ab8c793b"
      },
      "execution_count": 29,
      "outputs": [
        {
          "output_type": "stream",
          "name": "stdout",
          "text": [
            "--- Soal 8 ---\n",
            "10\n",
            "20\n",
            "30\n",
            "-1\n",
            "50\n",
            "Program berhenti karena angka 0 ditemukan.\n"
          ]
        }
      ]
    },
    {
      "cell_type": "code",
      "source": [
        "print(\"--- Soal 9 ---\")\n",
        "total = 0\n",
        "bilangan = 1\n",
        "batas = 20\n",
        "\n",
        "while total <= batas:\n",
        "    total += bilangan\n",
        "    bilangan += 1\n",
        "\n",
        "print(\"Total terakhir:\", total)"
      ],
      "metadata": {
        "colab": {
          "base_uri": "https://localhost:8080/"
        },
        "id": "qa7L9_S5s8oP",
        "outputId": "b3098d99-4073-4e5f-a42c-b4a83a610e54"
      },
      "execution_count": 30,
      "outputs": [
        {
          "output_type": "stream",
          "name": "stdout",
          "text": [
            "--- Soal 9 ---\n",
            "Total terakhir: 21\n"
          ]
        }
      ]
    },
    {
      "cell_type": "code",
      "source": [
        "print(\"--- Soal 10 ---\")\n",
        "jumlah_baris = 3\n",
        "\n",
        "for baris in range(jumlah_baris):\n",
        "    baris_teks = \"\"\n",
        "    for kata in range(1):  # Perulangan dalam hanya 1 kali\n",
        "        baris_teks += \"Python \"\n",
        "    print(baris_teks)"
      ],
      "metadata": {
        "colab": {
          "base_uri": "https://localhost:8080/"
        },
        "id": "KQxYkWkRuekA",
        "outputId": "c4930344-5921-4f6c-9384-48d6b0309b44"
      },
      "execution_count": 31,
      "outputs": [
        {
          "output_type": "stream",
          "name": "stdout",
          "text": [
            "--- Soal 10 ---\n",
            "Python \n",
            "Python \n",
            "Python \n"
          ]
        }
      ]
    }
  ]
}