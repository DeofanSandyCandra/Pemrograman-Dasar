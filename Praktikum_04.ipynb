{
  "nbformat": 4,
  "nbformat_minor": 0,
  "metadata": {
    "colab": {
      "provenance": [],
      "authorship_tag": "ABX9TyP8zz2+GJQPaXYP0KT3a3P1",
      "include_colab_link": true
    },
    "kernelspec": {
      "name": "python3",
      "display_name": "Python 3"
    },
    "language_info": {
      "name": "python"
    }
  },
  "cells": [
    {
      "cell_type": "markdown",
      "metadata": {
        "id": "view-in-github",
        "colab_type": "text"
      },
      "source": [
        "<a href=\"https://colab.research.google.com/github/DeofanSandyCandra/Pemrograman-Dasar/blob/main/Praktikum_04.ipynb\" target=\"_parent\"><img src=\"https://colab.research.google.com/assets/colab-badge.svg\" alt=\"Open In Colab\"/></a>"
      ]
    },
    {
      "cell_type": "code",
      "execution_count": null,
      "metadata": {
        "colab": {
          "base_uri": "https://localhost:8080/"
        },
        "id": "tT79l9dui59L",
        "outputId": "3fec6054-a730-42ef-9128-9c999ea32314"
      },
      "outputs": [
        {
          "name": "stdout",
          "output_type": "stream",
          "text": [
            "Umur: 17\n"
          ]
        }
      ],
      "source": [
        "umur = int(input(\"Umur: \"))\n",
        "\n",
        "# Program hanya akan mencetak pesan jika umur di atas 17\n",
        "if umur > 17:\n",
        "    print(\"Pengunjung adalah orang dewasa.\")"
      ]
    },
    {
      "cell_type": "code",
      "source": [
        "username = input(\"Masukkan username: \")\n",
        "\n",
        "password = input(\"Masukkan password: \")\n",
        "\n",
        "if username == \"admin\" and password == \"1234\":\n",
        "    print(\"Login berhasil\")\n",
        "else:\n",
        "    print(\"Login gagal\")"
      ],
      "metadata": {
        "colab": {
          "base_uri": "https://localhost:8080/"
        },
        "id": "QVKrcOh-z2x7",
        "outputId": "06b44dec-104f-4f96-c1f3-d22f91285267"
      },
      "execution_count": null,
      "outputs": [
        {
          "output_type": "stream",
          "name": "stdout",
          "text": [
            "Masukkan username: adkim\n",
            "Masukkan password: 1234\n",
            "Login gagal\n"
          ]
        }
      ]
    },
    {
      "cell_type": "code",
      "source": [
        "# Program untuk mengecek bonus dan diskon\n",
        "\n",
        "# Input total belanja\n",
        "total_belanja = input(\"Total belanja: Rp \")\n",
        "\n",
        "# Konversi ke integer\n",
        "bayar = int(total_belanja)\n",
        "\n",
        "# Jika belanja di atas 100.000, berikan bonus dan diskon\n",
        "if int(total_belanja) > 100000:\n",
        "    print(\"Selamat Karena Belanja > Rp 100.000 anda mendapat Voucher Makan :)\")\n",
        "\n",
        "# Hitung diskon 5%\n",
        "diskon = int(total_belanja) * 5 / 100\n",
        "bayar = int(total_belanja) - diskon\n",
        "\n",
        "# Cetak struk\n",
        "print(\"Total yang harus dibayar: Rp %s\" % bayar)\n",
        "print(\"Terima kasih sudah berbelanja di Toko Kami\")\n",
        "print(\"Kami Tunggu kunjungan anda selanjutnya :)\")"
      ],
      "metadata": {
        "colab": {
          "base_uri": "https://localhost:8080/"
        },
        "id": "HD4dNES422fi",
        "outputId": "17ef9594-8ff3-474d-c70c-1854cc284eca"
      },
      "execution_count": null,
      "outputs": [
        {
          "output_type": "stream",
          "name": "stdout",
          "text": [
            "Total belanja: Rp 125000\n",
            "Selamat Karena Belanja > Rp 100.000 anda mendapat Voucher Makan :)\n",
            "Total yang harus dibayar: Rp 118750.0\n",
            "Terima kasih sudah berbelanja di Toko Kami\n",
            "Kami Tunggu kunjungan anda selanjutnya :)\n"
          ]
        }
      ]
    },
    {
      "cell_type": "code",
      "source": [
        "# Variabel untuk memeriksa apakah ada notifikasi baru\n",
        "ada_notifikasi_baru: bool = True\n",
        "\n",
        "if ada_notifikasi_baru:\n",
        "    print(\"Anda memiliki pesan baru!\")"
      ],
      "metadata": {
        "id": "uucbLn4v5ovF",
        "outputId": "be22b7d4-66c7-4e05-ecce-38fafdf78c36",
        "colab": {
          "base_uri": "https://localhost:8080/"
        }
      },
      "execution_count": null,
      "outputs": [
        {
          "output_type": "stream",
          "name": "stdout",
          "text": [
            "Anda memiliki pesan baru!\n"
          ]
        }
      ]
    },
    {
      "cell_type": "code",
      "source": [
        " # If-Else\n",
        " # Program untuk mengecek kelayakan membuat SIM\n",
        "umur = int(input(\"Berapa umur kamu: \"))\n",
        "if umur >= 18:\n",
        "    print(\"Kamu boleh membuat SIM\")\n",
        "else:\n",
        "    print(\"Kamu belum boleh membuat SIM\")"
      ],
      "metadata": {
        "colab": {
          "base_uri": "https://localhost:8080/"
        },
        "id": "NA6dkX9D6HCM",
        "outputId": "5c048253-1100-4287-98cc-b1d987eab1db"
      },
      "execution_count": null,
      "outputs": [
        {
          "output_type": "stream",
          "name": "stdout",
          "text": [
            "Berapa umur kamu: 12\n",
            "Kamu belum boleh membuat SIM\n"
          ]
        }
      ]
    },
    {
      "cell_type": "code",
      "source": [
        "# Program untuk menentukan bilangan genap atau ganjil\n",
        "angka = int(input(\"Masukkan bilangan: \"))\n",
        "if angka % 2 == 0:\n",
        "    print(\"Bilangan Genap\")\n",
        "else:\n",
        "    print(\"Bilangan Ganjil\")"
      ],
      "metadata": {
        "colab": {
          "base_uri": "https://localhost:8080/"
        },
        "id": "kJZnWYMH6nwV",
        "outputId": "d3a0bd71-971c-4b09-b9a2-55afa2ffe183"
      },
      "execution_count": null,
      "outputs": [
        {
          "output_type": "stream",
          "name": "stdout",
          "text": [
            "Masukkan bilangan: 8\n",
            "Bilangan Genap\n"
          ]
        }
      ]
    },
    {
      "cell_type": "code",
      "source": [
        "# Program untuk menghitung diskon dan total pembayaran\n",
        "total_belanja = float(input(\"Masukkan total belanja (Rp): \"))\n",
        "diskon = total_belanja * 0.10\n",
        "total_bayar = total_belanja - diskon\n",
        "\n",
        "print(\"Total belanja: Rp\", total_belanja)\n",
        "print(\"Diskon: Rp\", diskon)\n",
        "print(\"Total bayar: Rp\", total_bayar)"
      ],
      "metadata": {
        "colab": {
          "base_uri": "https://localhost:8080/"
        },
        "id": "wF_ds_2T6tY7",
        "outputId": "18868517-1c23-414a-cb2d-b9e709f3528e"
      },
      "execution_count": null,
      "outputs": [
        {
          "output_type": "stream",
          "name": "stdout",
          "text": [
            "Masukkan total belanja (Rp): 85000\n",
            "Total belanja: Rp 85000.0\n",
            "Diskon: Rp 8500.0\n",
            "Total bayar: Rp 76500.0\n"
          ]
        }
      ]
    },
    {
      "cell_type": "code",
      "source": [
        "# Program untuk menghitung diskon dan total pembayaran\n",
        "\n",
        "# Input total belanja dari pengguna\n",
        "total_belanja = float(input(\"Masukkan total belanja (Rp): \"))\n",
        "\n",
        "if total_belanja > 20000:\n",
        "    diskon = total_belanja * 0.10\n",
        "    total_bayar = total_belanja - diskon\n",
        "    print(f\"Anda mendapat diskon! Total bayar: Rp {total_bayar}\")\n",
        "else:\n",
        "    print(f\"Total bayar: Rp {total_belanja:,.2f}\")"
      ],
      "metadata": {
        "colab": {
          "base_uri": "https://localhost:8080/"
        },
        "id": "E1DNlcRl72dw",
        "outputId": "2e6ee956-0c3e-48e4-8357-584c08fb7cf6"
      },
      "execution_count": null,
      "outputs": [
        {
          "output_type": "stream",
          "name": "stdout",
          "text": [
            "Masukkan total belanja (Rp): 25000\n",
            "Anda mendapat diskon! Total bayar: Rp 22500.0\n"
          ]
        }
      ]
    },
    {
      "cell_type": "code",
      "source": [
        "nilai = float (input(\"Masukkan nilai: \"))\n",
        "\n",
        "if nilai >= 85:\n",
        "\n",
        "  print(\"Luar biasa! Nilai A\")\n",
        "\n",
        "elif nilai >= 70:\n",
        "\n",
        "  print(\"Bagus! Nilai B\")\n",
        "\n",
        "elif nilai >= 60:\n",
        "\n",
        "  print(\"Cukup. Nilai C\")\n",
        "\n",
        "else:\n",
        "\n",
        "  print(\"Nilai kurang, perlu belajar lebih giat.\")"
      ],
      "metadata": {
        "colab": {
          "base_uri": "https://localhost:8080/"
        },
        "id": "lKita09EfzNd",
        "outputId": "1199c7ab-b2cc-4990-b08a-57a37e3bf4e0"
      },
      "execution_count": null,
      "outputs": [
        {
          "output_type": "stream",
          "name": "stdout",
          "text": [
            "Masukkan nilai: 25\n",
            "Nilai kurang, perlu belajar lebih giat.\n"
          ]
        }
      ]
    },
    {
      "cell_type": "code",
      "source": [
        "# Menentukan jenis diskon berdasarkan hari\n",
        "\n",
        "hari = input(str(\"Hari apa hari ini? \"))\n",
        "\n",
        "if hari == \"Sabtu\" or hari == \"Minggu\":\n",
        "  diskon: float = 0.20 # Diskon 20%\n",
        "\n",
        "  print(f\"Selamat! Anda mendapat diskon akhir pekan sebesar {diskon*100}%.\")\n",
        "elif hari == \"Jumat\":\n",
        "\n",
        "  diskon: float = 0.15 # Diskon 15%\n",
        "  print(f\"Diskon spesial Jumat! Anda mendapat potongan {diskon*100}%.\")\n",
        "\n",
        "else:\n",
        "  diskon: float = 0.05 # Diskon 5%\n",
        "  print(f\"Anda mendapat diskon hari biasa sebesar {diskon*100}%.\")\n"
      ],
      "metadata": {
        "colab": {
          "base_uri": "https://localhost:8080/"
        },
        "id": "NOXVAh-2hhVA",
        "outputId": "12e8c52d-ab36-422e-8940-4b60040bb8d8"
      },
      "execution_count": null,
      "outputs": [
        {
          "output_type": "stream",
          "name": "stdout",
          "text": [
            "Hari apa hari ini? Minggu\n",
            "Selamat! Anda mendapat diskon akhir pekan sebesar 20.0%.\n"
          ]
        }
      ]
    },
    {
      "cell_type": "code",
      "source": [
        "rupiah = int(input(\"Masukkan jumlah uang (Rp): \"))\n",
        "\n",
        "print(\"1. Dollar (USD)\")\n",
        "\n",
        "print(\"2. Euro (EUR)\")\n",
        "\n",
        "print(\"3. Yen (JPY)\")\n",
        "\n",
        "pilih = int(input(\"Pilih konversi (1/2/3): \"))\n",
        "\n",
        "if pilih == 1:\n",
        "\n",
        "  print(\"Dalam Dollar:\", rupiah / 15000)\n",
        "\n",
        "elif pilih == 2:\n",
        "\n",
        "  print(\"Dalam Euro:\", rupiah / 16000)\n",
        "\n",
        "elif pilih == 3:\n",
        "\n",
        "  print(\"Dalam Yen:\", rupiah / 120)\n",
        "\n",
        "else:\n",
        "\n",
        "  print(\"Pilihan tidak valid\")"
      ],
      "metadata": {
        "colab": {
          "base_uri": "https://localhost:8080/"
        },
        "id": "kO8eYO4wiPR7",
        "outputId": "92bce643-b74e-40a3-9452-fda71f30c3c7"
      },
      "execution_count": null,
      "outputs": [
        {
          "output_type": "stream",
          "name": "stdout",
          "text": [
            "Masukkan jumlah uang (Rp): 25000\n",
            "1. Dollar (USD)\n",
            "2. Euro (EUR)\n",
            "3. Yen (JPY)\n",
            "Pilih konversi (1/2/3): 2\n",
            "Dalam Euro: 1.5625\n"
          ]
        }
      ]
    }
  ]
}